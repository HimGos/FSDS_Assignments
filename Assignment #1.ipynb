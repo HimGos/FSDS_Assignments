{
 "cells": [
  {
   "cell_type": "code",
   "execution_count": 1,
   "id": "cf98b873",
   "metadata": {},
   "outputs": [],
   "source": [
    "# Q1. Which of them are values or expression? Value can be integer or string & expressions will be math operators."
   ]
  },
  {
   "cell_type": "code",
   "execution_count": null,
   "id": "bd95a2c8",
   "metadata": {},
   "outputs": [],
   "source": [
    "*       -->  Expression\n",
    "'hello' -->  Value (string) \n",
    "-87.8   -->  Value  (Float)\n",
    "-       -->  Expression\n",
    "/       -->  Expression\n",
    "+       -->  Expression\n",
    "6       -->  Value (integer)"
   ]
  },
  {
   "cell_type": "code",
   "execution_count": 2,
   "id": "1ae37139",
   "metadata": {},
   "outputs": [],
   "source": [
    "# Q2. What is the difference between string and variable?"
   ]
  },
  {
   "cell_type": "code",
   "execution_count": null,
   "id": "1f602b19",
   "metadata": {},
   "outputs": [],
   "source": [
    "String -> A string is a sequence of ALL the characteres defined in coding langauge i.e. Unicode characters. String is written\n",
    "            in either single quotes like 'asd' or double quotes \"asd\" , both having same relevance.\n",
    "    \n",
    "Variable -> We can see variable as a TAG. Like if we say a = 5 , here some space is taken in memory with value 5\n",
    "            and that memory has been assigned a name 'a'. So 'a' has been TAGGED to that memory. And this is what variable is."
   ]
  },
  {
   "cell_type": "code",
   "execution_count": 3,
   "id": "40d52b4c",
   "metadata": {},
   "outputs": [],
   "source": [
    "# Q3. Describe three different data types."
   ]
  },
  {
   "cell_type": "code",
   "execution_count": null,
   "id": "89f7b432",
   "metadata": {},
   "outputs": [],
   "source": [
    "1. Integer  --> Number without any decimal component. Like 3,71283,-12 etc. We can say they are whole numbers.\n",
    "2. Float    --> Number with decimal component. Like 3.14,7.34 etc\n",
    "3. String   --> A string is a sequence of ALL the characteres defined in coding langauge i.e. Unicode characters. \n",
    "                String is written in either single quotes like 'asd' or double quotes \"asd\" , both having same relevance."
   ]
  },
  {
   "cell_type": "code",
   "execution_count": 4,
   "id": "c2178feb",
   "metadata": {},
   "outputs": [],
   "source": [
    "# Q4. What is an expression made up of? What do all expressions do? "
   ]
  },
  {
   "cell_type": "code",
   "execution_count": null,
   "id": "adcacce5",
   "metadata": {},
   "outputs": [],
   "source": [
    "An expression is made up of operators (+,-,* etc) and operands (variables or constants on which operators perform). \n",
    "All expressions try to give us some value by evaluating the equation of operators and operands combined."
   ]
  },
  {
   "cell_type": "code",
   "execution_count": 5,
   "id": "58f803c5",
   "metadata": {},
   "outputs": [],
   "source": [
    "# Q5. A Statement, a = 10 . difference between an expression and statement?"
   ]
  },
  {
   "cell_type": "code",
   "execution_count": null,
   "id": "c8f6388b",
   "metadata": {},
   "outputs": [],
   "source": [
    "a = 10 is indeed just a statement because we aren't performing any operations on it via operators which could have made it \n",
    "an expression. The above statement is just assigning a value to variable, not operating something on it as operand via operator.\n",
    "This is the difference between expression and statement.\n",
    "If we were doing a+b=10 , then yes it's an expression. "
   ]
  },
  {
   "cell_type": "code",
   "execution_count": 6,
   "id": "8cb76ba3",
   "metadata": {},
   "outputs": [],
   "source": [
    "# Q6. bacon = 22 ... bacon+1  ... what does the variable bacon contain?"
   ]
  },
  {
   "cell_type": "code",
   "execution_count": 7,
   "id": "fd6ec2f8",
   "metadata": {},
   "outputs": [
    {
     "data": {
      "text/plain": [
       "23"
      ]
     },
     "execution_count": 7,
     "metadata": {},
     "output_type": "execute_result"
    }
   ],
   "source": [
    "bacon = 22\n",
    "bacon+1"
   ]
  },
  {
   "cell_type": "code",
   "execution_count": null,
   "id": "4aef435c",
   "metadata": {},
   "outputs": [],
   "source": [
    "bacon contains 23 after increment "
   ]
  },
  {
   "cell_type": "code",
   "execution_count": 8,
   "id": "327881eb",
   "metadata": {},
   "outputs": [],
   "source": [
    "# Q7. 'spam' + 'spamspam'  ....  'spam'*3"
   ]
  },
  {
   "cell_type": "code",
   "execution_count": null,
   "id": "9242f0be",
   "metadata": {},
   "outputs": [],
   "source": [
    "both containing same output  -->  spamspamspam"
   ]
  },
  {
   "cell_type": "code",
   "execution_count": 9,
   "id": "a02a8a20",
   "metadata": {},
   "outputs": [],
   "source": [
    "# Q8. Why is eggs a valid variable name while 100 is invalid?"
   ]
  },
  {
   "cell_type": "code",
   "execution_count": null,
   "id": "7d5b9dd9",
   "metadata": {},
   "outputs": [],
   "source": [
    "That's because a variable name can't start with number. However writing e100gg is valid. \n",
    "We just need to start variable with a character or underscore"
   ]
  },
  {
   "cell_type": "code",
   "execution_count": 10,
   "id": "87781f1a",
   "metadata": {},
   "outputs": [],
   "source": [
    "# Q9. What three functions can be used to get the integer, floating-point number, or string version of a value?"
   ]
  },
  {
   "cell_type": "code",
   "execution_count": null,
   "id": "36a1b7d2",
   "metadata": {},
   "outputs": [],
   "source": [
    "integer -> int()\n",
    "float   -> float()\n",
    "string  -> str()"
   ]
  },
  {
   "cell_type": "code",
   "execution_count": 11,
   "id": "5abc3000",
   "metadata": {},
   "outputs": [],
   "source": [
    "# Q10. Why does this expression cause an error? How can you fix it?\n",
    "# 'I have eaten'+99+'burritos.'"
   ]
  },
  {
   "cell_type": "code",
   "execution_count": null,
   "id": "e295a688",
   "metadata": {},
   "outputs": [],
   "source": [
    "It caused an error because string and integer concatenation is not possible.\n",
    "We simply need to convert integer into string using str() OR by putting 99 under ' '."
   ]
  },
  {
   "cell_type": "code",
   "execution_count": 13,
   "id": "4d13678c",
   "metadata": {},
   "outputs": [
    {
     "data": {
      "text/plain": [
       "'I have eaten99burritos.'"
      ]
     },
     "execution_count": 13,
     "metadata": {},
     "output_type": "execute_result"
    }
   ],
   "source": [
    "'I have eaten' + str(99) + 'burritos.'"
   ]
  },
  {
   "cell_type": "code",
   "execution_count": 14,
   "id": "ecdbe735",
   "metadata": {},
   "outputs": [
    {
     "data": {
      "text/plain": [
       "'I have eaten99burritos.'"
      ]
     },
     "execution_count": 14,
     "metadata": {},
     "output_type": "execute_result"
    }
   ],
   "source": [
    "'I have eaten' + '99' + 'burritos.'"
   ]
  },
  {
   "cell_type": "code",
   "execution_count": null,
   "id": "317627da",
   "metadata": {},
   "outputs": [],
   "source": []
  },
  {
   "cell_type": "code",
   "execution_count": null,
   "id": "15679a92",
   "metadata": {},
   "outputs": [],
   "source": [
    "\"\"\"\n",
    "\n",
    "Thank You :)\n",
    "\n",
    "\"\"\""
   ]
  }
 ],
 "metadata": {
  "kernelspec": {
   "display_name": "Python 3 (ipykernel)",
   "language": "python",
   "name": "python3"
  },
  "language_info": {
   "codemirror_mode": {
    "name": "ipython",
    "version": 3
   },
   "file_extension": ".py",
   "mimetype": "text/x-python",
   "name": "python",
   "nbconvert_exporter": "python",
   "pygments_lexer": "ipython3",
   "version": "3.9.12"
  }
 },
 "nbformat": 4,
 "nbformat_minor": 5
}
