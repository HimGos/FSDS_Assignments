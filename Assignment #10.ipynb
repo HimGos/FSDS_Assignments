{
 "cells": [
  {
   "cell_type": "code",
   "execution_count": 1,
   "id": "0d5e73ae",
   "metadata": {},
   "outputs": [],
   "source": [
    "# Q1. How do you distinguish between shutil.copy() and shutil.copytree()?"
   ]
  },
  {
   "cell_type": "code",
   "execution_count": null,
   "id": "94215e5c",
   "metadata": {},
   "outputs": [],
   "source": [
    "shutil.copy() is used to copy data from one to another. File must be in same directory. It copies everything except metadata.\n",
    "shutil.copytree() is used to copy the entire directory to the desired directory."
   ]
  },
  {
   "cell_type": "code",
   "execution_count": null,
   "id": "78c6c484",
   "metadata": {},
   "outputs": [],
   "source": []
  },
  {
   "cell_type": "code",
   "execution_count": 2,
   "id": "231b3e24",
   "metadata": {},
   "outputs": [],
   "source": [
    "# Q2. What function is used to rename files??"
   ]
  },
  {
   "cell_type": "code",
   "execution_count": null,
   "id": "3fe0dd78",
   "metadata": {},
   "outputs": [],
   "source": [
    "We can use os.rename('oldname','newname') function"
   ]
  },
  {
   "cell_type": "code",
   "execution_count": null,
   "id": "f9e1537a",
   "metadata": {},
   "outputs": [],
   "source": []
  },
  {
   "cell_type": "code",
   "execution_count": 3,
   "id": "f41b2911",
   "metadata": {},
   "outputs": [],
   "source": [
    "# Q3. What is the difference between the delete functions in the send2trash and shutil modules?"
   ]
  },
  {
   "cell_type": "code",
   "execution_count": null,
   "id": "94e1295b",
   "metadata": {},
   "outputs": [],
   "source": [
    "Files deleted via send2trash moves to recycle bin or Trash, instead of getting permanently deleted.\n",
    "shutil delete or remove function doesn't remove a file but whole directory and that too is permanent."
   ]
  },
  {
   "cell_type": "code",
   "execution_count": null,
   "id": "2cdcf336",
   "metadata": {},
   "outputs": [],
   "source": []
  },
  {
   "cell_type": "code",
   "execution_count": 4,
   "id": "ecc65acd",
   "metadata": {},
   "outputs": [],
   "source": [
    "# Q4. ZipFile objects have a close() method just like File objects’ close() method. What ZipFile method is\n",
    "#     equivalent to File objects’ open() method?"
   ]
  },
  {
   "cell_type": "code",
   "execution_count": null,
   "id": "6a62990b",
   "metadata": {},
   "outputs": [],
   "source": [
    "zipfile.ZipFile()"
   ]
  },
  {
   "cell_type": "code",
   "execution_count": null,
   "id": "09a0b313",
   "metadata": {},
   "outputs": [],
   "source": []
  },
  {
   "cell_type": "code",
   "execution_count": 5,
   "id": "47273508",
   "metadata": {},
   "outputs": [],
   "source": [
    "# Q5. Create a programme that searches a folder tree for files with a certain file extension (such as .pdf\n",
    "#     or .jpg). Copy these files from whatever location they are in to a new folder."
   ]
  },
  {
   "cell_type": "code",
   "execution_count": null,
   "id": "4779071a",
   "metadata": {},
   "outputs": [],
   "source": [
    "import logging\n",
    "import os\n",
    "import shutil\n",
    "\n",
    "logging.basicConfig(filename=\"practice.log\", level = logging.INFO,format=\"%(levelname)s %(asctime)s %(message)s\")\n",
    "\n",
    "\n",
    "src = \"C:\\\\Users\\\\Himz\\\\Assignments\\\\\"\n",
    "dest = r\"C:\\Users\\Himz\\logging\"\n",
    "\n",
    "extension = ['.jpg', '.pdf']\n",
    "\n",
    "logging.info(\"Starting for loop to iterate the file\")\n",
    "\n",
    "for root,dir,files in os.walk(src):\n",
    "    for file in files :\n",
    "        if file.endswith(tuple(extension)):\n",
    "            \n",
    "            logging.info(\"file found!\")\n",
    "            logging.info(file)\n",
    "            \n",
    "            source = src + file\n",
    "            shutil.copy2(source,dest)\n",
    "            \n",
    "            logging.info(\"All Done: \")"
   ]
  }
 ],
 "metadata": {
  "kernelspec": {
   "display_name": "Python 3 (ipykernel)",
   "language": "python",
   "name": "python3"
  },
  "language_info": {
   "codemirror_mode": {
    "name": "ipython",
    "version": 3
   },
   "file_extension": ".py",
   "mimetype": "text/x-python",
   "name": "python",
   "nbconvert_exporter": "python",
   "pygments_lexer": "ipython3",
   "version": "3.9.12"
  }
 },
 "nbformat": 4,
 "nbformat_minor": 5
}
