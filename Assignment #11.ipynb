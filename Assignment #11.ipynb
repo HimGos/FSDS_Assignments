{
 "cells": [
  {
   "cell_type": "code",
   "execution_count": 1,
   "id": "8ac6d183",
   "metadata": {},
   "outputs": [],
   "source": [
    "# Q1. Create an assert statement that throws an AssertionError if the variable spam is a negative integer."
   ]
  },
  {
   "cell_type": "code",
   "execution_count": null,
   "id": "1b89d9ad",
   "metadata": {},
   "outputs": [],
   "source": [
    "We can write it in these ways -"
   ]
  },
  {
   "cell_type": "code",
   "execution_count": 2,
   "id": "df5a70e3",
   "metadata": {},
   "outputs": [
    {
     "name": "stdout",
     "output_type": "stream",
     "text": [
      "Enter a number: -8\n"
     ]
    },
    {
     "ename": "AssertionError",
     "evalue": "It's a negative number",
     "output_type": "error",
     "traceback": [
      "\u001b[1;31m---------------------------------------------------------------------------\u001b[0m",
      "\u001b[1;31mAssertionError\u001b[0m                            Traceback (most recent call last)",
      "Input \u001b[1;32mIn [2]\u001b[0m, in \u001b[0;36m<cell line: 2>\u001b[1;34m()\u001b[0m\n\u001b[0;32m      1\u001b[0m spam \u001b[38;5;241m=\u001b[39m \u001b[38;5;28mint\u001b[39m(\u001b[38;5;28minput\u001b[39m(\u001b[38;5;124m\"\u001b[39m\u001b[38;5;124mEnter a number: \u001b[39m\u001b[38;5;124m\"\u001b[39m))\n\u001b[1;32m----> 2\u001b[0m \u001b[38;5;28;01massert\u001b[39;00m spam \u001b[38;5;241m>\u001b[39m \u001b[38;5;241m0\u001b[39m , \u001b[38;5;124m\"\u001b[39m\u001b[38;5;124mIt\u001b[39m\u001b[38;5;124m'\u001b[39m\u001b[38;5;124ms a negative number\u001b[39m\u001b[38;5;124m\"\u001b[39m\n",
      "\u001b[1;31mAssertionError\u001b[0m: It's a negative number"
     ]
    }
   ],
   "source": [
    "spam = int(input(\"Enter a number: \"))\n",
    "assert spam >= 0 , \"It's a negative number\""
   ]
  },
  {
   "cell_type": "code",
   "execution_count": 4,
   "id": "a5574428",
   "metadata": {},
   "outputs": [
    {
     "name": "stdout",
     "output_type": "stream",
     "text": [
      "Enter a number: -8\n",
      "Assertion Error, negative number\n"
     ]
    }
   ],
   "source": [
    "try :\n",
    "    spam = int(input(\"Enter a number: \"))\n",
    "    assert spam >= 0 , \"Assertion Error, negative number\"\n",
    "except AssertionError as a:\n",
    "    print(a)"
   ]
  },
  {
   "cell_type": "code",
   "execution_count": null,
   "id": "910990bd",
   "metadata": {},
   "outputs": [],
   "source": []
  },
  {
   "cell_type": "code",
   "execution_count": 5,
   "id": "75c8c4cd",
   "metadata": {},
   "outputs": [],
   "source": [
    "# Q2. Write an assert statement that triggers an AssertionError if the variables eggs and bacon contain\n",
    "#     strings that are the same as each other, even if their cases are different (that is, 'hello' and 'hello' are\n",
    "#     considered the same, and 'goodbye' and 'GOODbye' are also considered the same)."
   ]
  },
  {
   "cell_type": "code",
   "execution_count": 8,
   "id": "a393fcf4",
   "metadata": {},
   "outputs": [
    {
     "name": "stdout",
     "output_type": "stream",
     "text": [
      "Enter a string: goodbye\n",
      "Enter second string: GOODbye\n",
      "Assertion Error, Both string are same\n"
     ]
    }
   ],
   "source": [
    "try:\n",
    "    eggs = input(\"Enter a string: \")\n",
    "    bacon = input(\"Enter second string: \")\n",
    "    assert eggs.lower() != bacon.lower() , \"Assertion Error, Both string are same\"\n",
    "    print(\"Both are different\")\n",
    "except Exception as e:\n",
    "    print(e)"
   ]
  },
  {
   "cell_type": "code",
   "execution_count": null,
   "id": "b9e7449a",
   "metadata": {},
   "outputs": [],
   "source": []
  },
  {
   "cell_type": "code",
   "execution_count": 9,
   "id": "5ff44eb7",
   "metadata": {},
   "outputs": [],
   "source": [
    "# Q3. Create an assert statement that throws an AssertionError every time."
   ]
  },
  {
   "cell_type": "code",
   "execution_count": null,
   "id": "37181afe",
   "metadata": {},
   "outputs": [],
   "source": [
    "while True:\n",
    "    try :\n",
    "        pos = int(input(\"Enter a positive number: \"))\n",
    "        assert pos >=0 , \"It's a negative number\"\n",
    "    except AssertionError as e:\n",
    "        print(e)\n",
    "        continue"
   ]
  },
  {
   "cell_type": "code",
   "execution_count": null,
   "id": "c6ef6c46",
   "metadata": {},
   "outputs": [],
   "source": []
  },
  {
   "cell_type": "code",
   "execution_count": 10,
   "id": "b9c1854f",
   "metadata": {},
   "outputs": [],
   "source": [
    "# Q4. What are the two lines that must be present in your software in order to call logging.debug()?"
   ]
  },
  {
   "cell_type": "code",
   "execution_count": null,
   "id": "18aa6850",
   "metadata": {},
   "outputs": [],
   "source": [
    "import logging\n",
    "logging.basicConfig(filename=\"filename.log\", level=logging.DEBUG , format = \"%(levelname)s %(asctime)s %(message)s\")"
   ]
  },
  {
   "cell_type": "code",
   "execution_count": null,
   "id": "a852c422",
   "metadata": {},
   "outputs": [],
   "source": []
  },
  {
   "cell_type": "code",
   "execution_count": 11,
   "id": "852a9479",
   "metadata": {},
   "outputs": [],
   "source": [
    "# Q5. What are the two lines that your program must have in order to have logging.debug() send a \n",
    "#     logging message to a file named programLog.txt?"
   ]
  },
  {
   "cell_type": "code",
   "execution_count": null,
   "id": "f3b4572b",
   "metadata": {},
   "outputs": [],
   "source": [
    "import logging\n",
    "logging.basicConfig(filename=\"programLog.txt\", level=logging.DEBUG , format = \"%(levelname)s %(asctime)s %(message)s\")\n",
    "\n",
    "logging.debug(\"This is my testing of file\")"
   ]
  },
  {
   "cell_type": "code",
   "execution_count": null,
   "id": "c8c39345",
   "metadata": {},
   "outputs": [],
   "source": []
  },
  {
   "cell_type": "code",
   "execution_count": 12,
   "id": "7d093493",
   "metadata": {},
   "outputs": [],
   "source": [
    "# Q6. What are the five levels of logging?"
   ]
  },
  {
   "cell_type": "code",
   "execution_count": null,
   "id": "e17f5021",
   "metadata": {},
   "outputs": [],
   "source": [
    "DEBUG , INFO , WARNING , ERROR , CRITICAL"
   ]
  },
  {
   "cell_type": "code",
   "execution_count": null,
   "id": "6229cc58",
   "metadata": {},
   "outputs": [],
   "source": []
  },
  {
   "cell_type": "code",
   "execution_count": 13,
   "id": "8d962ac4",
   "metadata": {},
   "outputs": [],
   "source": [
    "# Q7. What line of code would you add to your software to disable all logging messages?"
   ]
  },
  {
   "cell_type": "code",
   "execution_count": null,
   "id": "0824b285",
   "metadata": {},
   "outputs": [],
   "source": [
    "logging.shutdown()"
   ]
  },
  {
   "cell_type": "code",
   "execution_count": null,
   "id": "90673840",
   "metadata": {},
   "outputs": [],
   "source": []
  },
  {
   "cell_type": "code",
   "execution_count": 14,
   "id": "0d226313",
   "metadata": {},
   "outputs": [],
   "source": [
    "# Q8. Why is using logging messages better than using print() to display the same message?"
   ]
  },
  {
   "cell_type": "code",
   "execution_count": null,
   "id": "903703aa",
   "metadata": {},
   "outputs": [],
   "source": [
    "Using logging at various step allows us to track exactly at which step our program has reached. \n",
    "print() can't be used at every step hence it can't help much in debugging the code."
   ]
  },
  {
   "cell_type": "code",
   "execution_count": null,
   "id": "02fcf6af",
   "metadata": {},
   "outputs": [],
   "source": []
  },
  {
   "cell_type": "code",
   "execution_count": 15,
   "id": "804bd050",
   "metadata": {},
   "outputs": [],
   "source": [
    "# Q9. What are the differences between the Step Over, Step In, and Step Out buttons in the debugger?"
   ]
  },
  {
   "cell_type": "code",
   "execution_count": null,
   "id": "184824ac",
   "metadata": {},
   "outputs": [],
   "source": [
    "Step Over -> Skips the current line and moves to next line even if it's a method. Skips whole method too.\n",
    "Step In   -> To look into method, we use Step In to see what's happening inside method.\n",
    "Step Out  -> Steps Our of the current function."
   ]
  },
  {
   "cell_type": "code",
   "execution_count": null,
   "id": "9493e688",
   "metadata": {},
   "outputs": [],
   "source": []
  },
  {
   "cell_type": "code",
   "execution_count": 16,
   "id": "ab5f0652",
   "metadata": {},
   "outputs": [],
   "source": [
    "# Q10. After you click Continue, when will the debugger stop ?"
   ]
  },
  {
   "cell_type": "code",
   "execution_count": null,
   "id": "445b7e8f",
   "metadata": {},
   "outputs": [],
   "source": [
    "It stops only when it completes the program."
   ]
  },
  {
   "cell_type": "code",
   "execution_count": null,
   "id": "a1a0b853",
   "metadata": {},
   "outputs": [],
   "source": []
  },
  {
   "cell_type": "code",
   "execution_count": 17,
   "id": "4d8eb1d8",
   "metadata": {},
   "outputs": [],
   "source": [
    "# Q11. What is the concept of a breakpoint?"
   ]
  },
  {
   "cell_type": "code",
   "execution_count": null,
   "id": "07707560",
   "metadata": {},
   "outputs": [],
   "source": [
    "Breakpoint allows us to pick a point from where we want to start debugging. \n",
    "In huge line of codes, it is necessary to have this feature."
   ]
  }
 ],
 "metadata": {
  "kernelspec": {
   "display_name": "Python 3 (ipykernel)",
   "language": "python",
   "name": "python3"
  },
  "language_info": {
   "codemirror_mode": {
    "name": "ipython",
    "version": 3
   },
   "file_extension": ".py",
   "mimetype": "text/x-python",
   "name": "python",
   "nbconvert_exporter": "python",
   "pygments_lexer": "ipython3",
   "version": "3.9.12"
  }
 },
 "nbformat": 4,
 "nbformat_minor": 5
}
