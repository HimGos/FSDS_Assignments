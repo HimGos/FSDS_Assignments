{
 "cells": [
  {
   "cell_type": "code",
   "execution_count": 1,
   "id": "dae9e65d",
   "metadata": {},
   "outputs": [],
   "source": [
    "# Q1. In what modes should the PdfFileReader() and PdfFileWriter() File objects will be opened?"
   ]
  },
  {
   "cell_type": "code",
   "execution_count": null,
   "id": "c6313814",
   "metadata": {},
   "outputs": [],
   "source": [
    "PdfFileReader() -> rb -> read binary\n",
    "PdfFileWriter() -> wb -> write binary"
   ]
  },
  {
   "cell_type": "code",
   "execution_count": null,
   "id": "ba777811",
   "metadata": {},
   "outputs": [],
   "source": []
  },
  {
   "cell_type": "code",
   "execution_count": 2,
   "id": "dbf5321a",
   "metadata": {},
   "outputs": [],
   "source": [
    "# Q2. From a PdfFileReader object, how do you get a Page object for page 5?"
   ]
  },
  {
   "cell_type": "code",
   "execution_count": null,
   "id": "0fe7c104",
   "metadata": {},
   "outputs": [],
   "source": [
    "import PyPDF2 \n",
    "pdfobj = open(r\"C:\\Users\\Himz\\Desktop\\Testing.pdf\",'rb')\n",
    "read = PyPDF2.PdfFileReader(pdfobj)\n",
    "print(read.getPage(4).extract_text())\n",
    "\n",
    "This will fetch Page 5 object."
   ]
  },
  {
   "cell_type": "code",
   "execution_count": null,
   "id": "60be7df3",
   "metadata": {},
   "outputs": [],
   "source": []
  },
  {
   "cell_type": "code",
   "execution_count": 3,
   "id": "8a4fe51f",
   "metadata": {},
   "outputs": [],
   "source": [
    "# Q3. What PdfFileReader variable stores the number of pages in the PDF document?"
   ]
  },
  {
   "cell_type": "code",
   "execution_count": 6,
   "id": "3beca6a8",
   "metadata": {},
   "outputs": [
    {
     "name": "stdout",
     "output_type": "stream",
     "text": [
      "1\n"
     ]
    }
   ],
   "source": [
    "import PyPDF2 \n",
    "pdfobj = open(r\"C:\\Users\\Himz\\Desktop\\Testing.pdf\",'rb')\n",
    "read = PyPDF2.PdfFileReader(pdfobj)\n",
    "print(read.getNumPages())\n",
    "\n",
    "# getNumPages() gets us the number of pages"
   ]
  },
  {
   "cell_type": "code",
   "execution_count": null,
   "id": "9fb436a1",
   "metadata": {},
   "outputs": [],
   "source": []
  },
  {
   "cell_type": "code",
   "execution_count": 7,
   "id": "6d802733",
   "metadata": {},
   "outputs": [],
   "source": [
    "# Q4. If a PdfFileReader object’s PDF is encrypted with the password swordfish, what must you do\n",
    "#     before you can obtain Page objects from it?"
   ]
  },
  {
   "cell_type": "code",
   "execution_count": null,
   "id": "c3338173",
   "metadata": {},
   "outputs": [],
   "source": [
    "import PyPDF2 \n",
    "pdfobj = open(r\"C:\\Users\\Himz\\Desktop\\Testing.pdf\",'rb')\n",
    "read = PyPDF2.PdfFileReader(pdfobj)\n",
    "read.decrypt('swordfish')             #Need to decrypt it by calling .decrypt()"
   ]
  },
  {
   "cell_type": "code",
   "execution_count": null,
   "id": "fbffaa80",
   "metadata": {},
   "outputs": [],
   "source": []
  },
  {
   "cell_type": "code",
   "execution_count": 8,
   "id": "f9501815",
   "metadata": {},
   "outputs": [],
   "source": [
    "# Q5. What methods do you use to rotate a page?"
   ]
  },
  {
   "cell_type": "code",
   "execution_count": null,
   "id": "5bdffd7d",
   "metadata": {},
   "outputs": [],
   "source": [
    "From above example... \n",
    "\n",
    "read.getPage(0).rotateClockwise(90)\n",
    "\n",
    "Here first page will get rotated by 90*"
   ]
  },
  {
   "cell_type": "code",
   "execution_count": null,
   "id": "8f49e6be",
   "metadata": {},
   "outputs": [],
   "source": []
  },
  {
   "cell_type": "code",
   "execution_count": 9,
   "id": "5af721a5",
   "metadata": {},
   "outputs": [],
   "source": [
    "# Q6. What is the difference between a Run object and a Paragraph object?"
   ]
  },
  {
   "cell_type": "code",
   "execution_count": null,
   "id": "03dec52d",
   "metadata": {},
   "outputs": [],
   "source": [
    "Run Object  -> Runs are group of characters within a paragraph of same style.\n",
    "Para Object -> Paragraph contains multiple runs within it.\n",
    "\n",
    "Document consist of multiple paragraphs and paragraph consist of Runs within it."
   ]
  },
  {
   "cell_type": "code",
   "execution_count": null,
   "id": "92b7039d",
   "metadata": {},
   "outputs": [],
   "source": []
  },
  {
   "cell_type": "code",
   "execution_count": 10,
   "id": "187fbb88",
   "metadata": {},
   "outputs": [],
   "source": [
    "# Q7. How do you obtain a list of Paragraph objects for a Document object that’s stored in a variable named doc?"
   ]
  },
  {
   "cell_type": "code",
   "execution_count": null,
   "id": "c62fdbf9",
   "metadata": {},
   "outputs": [],
   "source": [
    "import docx\n",
    "doc = docx.Document('newone.docx')\n",
    "doc.paragraphs"
   ]
  },
  {
   "cell_type": "code",
   "execution_count": null,
   "id": "9b5c540f",
   "metadata": {},
   "outputs": [],
   "source": []
  },
  {
   "cell_type": "code",
   "execution_count": 13,
   "id": "ecb1f3d9",
   "metadata": {},
   "outputs": [],
   "source": [
    "# Q8. What type of object has bold, underline, italic, strike, and outline variables?"
   ]
  },
  {
   "cell_type": "code",
   "execution_count": null,
   "id": "4904ac90",
   "metadata": {},
   "outputs": [],
   "source": [
    "Run object has these variables. eg...\n",
    "\n",
    "import docx\n",
    "doc = docx.Document('newone.docx')\n",
    "para = doc.add_paragraph(\"New Para\")\n",
    "para.add_run('bold text').bold = True"
   ]
  },
  {
   "cell_type": "code",
   "execution_count": null,
   "id": "a56dfdc3",
   "metadata": {},
   "outputs": [],
   "source": []
  },
  {
   "cell_type": "code",
   "execution_count": 14,
   "id": "2c3e8060",
   "metadata": {},
   "outputs": [],
   "source": [
    "# Q9. What is the difference between False, True, and None for the bold variable?"
   ]
  },
  {
   "cell_type": "code",
   "execution_count": null,
   "id": "d677395b",
   "metadata": {},
   "outputs": [],
   "source": [
    "bold is a style of Runs and it take one of three attribute -\n",
    "True -> makes Run object bold\n",
    "False -> Not Bold\n",
    "None -> it makes Run object use style's bold setting"
   ]
  },
  {
   "cell_type": "code",
   "execution_count": null,
   "id": "bcf1fa98",
   "metadata": {},
   "outputs": [],
   "source": []
  },
  {
   "cell_type": "code",
   "execution_count": 15,
   "id": "ee028687",
   "metadata": {},
   "outputs": [],
   "source": [
    "# Q10. How do you create a Document object for a new Word document?"
   ]
  },
  {
   "cell_type": "code",
   "execution_count": null,
   "id": "7cbccb1d",
   "metadata": {},
   "outputs": [],
   "source": [
    "docx.Document() can make the document object."
   ]
  },
  {
   "cell_type": "code",
   "execution_count": null,
   "id": "b687425a",
   "metadata": {},
   "outputs": [],
   "source": []
  },
  {
   "cell_type": "code",
   "execution_count": 16,
   "id": "e1df77c6",
   "metadata": {},
   "outputs": [],
   "source": [
    "# Q11. How do you add a paragraph with the text 'Hello, there!' to a Document object stored in a\n",
    "#      variable named doc?"
   ]
  },
  {
   "cell_type": "code",
   "execution_count": 20,
   "id": "2eae0e84",
   "metadata": {},
   "outputs": [],
   "source": [
    "import docx\n",
    "doc = docx.Document()\n",
    "doc.add_heading('Himz',0)\n",
    "doc.add_paragraph(\"Hello,there!\")\n",
    "doc.save('assignmnt.docx')"
   ]
  },
  {
   "cell_type": "code",
   "execution_count": null,
   "id": "fa1987cd",
   "metadata": {},
   "outputs": [],
   "source": []
  },
  {
   "cell_type": "code",
   "execution_count": 21,
   "id": "bd981717",
   "metadata": {},
   "outputs": [],
   "source": [
    "# Q12. What integers represent the levels of headings available in Word documents?"
   ]
  },
  {
   "cell_type": "code",
   "execution_count": null,
   "id": "698f9209",
   "metadata": {},
   "outputs": [],
   "source": [
    "0,1,2,3,4"
   ]
  }
 ],
 "metadata": {
  "kernelspec": {
   "display_name": "Python 3 (ipykernel)",
   "language": "python",
   "name": "python3"
  },
  "language_info": {
   "codemirror_mode": {
    "name": "ipython",
    "version": 3
   },
   "file_extension": ".py",
   "mimetype": "text/x-python",
   "name": "python",
   "nbconvert_exporter": "python",
   "pygments_lexer": "ipython3",
   "version": "3.9.12"
  }
 },
 "nbformat": 4,
 "nbformat_minor": 5
}
