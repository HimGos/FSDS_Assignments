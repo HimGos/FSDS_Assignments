{
 "cells": [
  {
   "cell_type": "code",
   "execution_count": 1,
   "id": "6b52a7b7",
   "metadata": {},
   "outputs": [],
   "source": [
    "# Q1.What advantages do Excel spreadsheets have over CSV spreadsheets?"
   ]
  },
  {
   "cell_type": "code",
   "execution_count": null,
   "id": "b3d79e3b",
   "metadata": {},
   "outputs": [],
   "source": [
    "A CSV file is just a text file, it stores data but does not contain formatting, formulas etc. Data Manipulation Not Allowed.\n",
    "Whereas, Excel spreadsheet not only stores data but can also do operations on the data. Data Manipulation allowed"
   ]
  },
  {
   "cell_type": "code",
   "execution_count": null,
   "id": "2f91b38e",
   "metadata": {},
   "outputs": [],
   "source": []
  },
  {
   "cell_type": "code",
   "execution_count": 2,
   "id": "a98921b5",
   "metadata": {},
   "outputs": [],
   "source": [
    "# Q2. What do you pass to csv.reader() and csv.writer() to create reader and writer objects? "
   ]
  },
  {
   "cell_type": "code",
   "execution_count": null,
   "id": "70d0443e",
   "metadata": {},
   "outputs": [],
   "source": [
    "We pass the object which opened the file."
   ]
  },
  {
   "cell_type": "code",
   "execution_count": null,
   "id": "e6f3c427",
   "metadata": {},
   "outputs": [],
   "source": []
  },
  {
   "cell_type": "code",
   "execution_count": 3,
   "id": "dad7cf29",
   "metadata": {},
   "outputs": [],
   "source": [
    "# Q3. What modes do File objects for reader and writer objects need to be opened in?"
   ]
  },
  {
   "cell_type": "code",
   "execution_count": null,
   "id": "accd7eb4",
   "metadata": {},
   "outputs": [],
   "source": [
    "'r' mode for reader object\n",
    "'w' mode for writer object"
   ]
  },
  {
   "cell_type": "code",
   "execution_count": null,
   "id": "ece05109",
   "metadata": {},
   "outputs": [],
   "source": []
  },
  {
   "cell_type": "code",
   "execution_count": 4,
   "id": "5192cdcf",
   "metadata": {},
   "outputs": [],
   "source": [
    "# Q4. What method takes a list argument and writes it to a CSV file?"
   ]
  },
  {
   "cell_type": "code",
   "execution_count": null,
   "id": "315e913f",
   "metadata": {},
   "outputs": [],
   "source": [
    "We can use writerow() for first row & writerows() for next rows by fetching elements from list."
   ]
  },
  {
   "cell_type": "code",
   "execution_count": null,
   "id": "61cc078e",
   "metadata": {},
   "outputs": [],
   "source": []
  },
  {
   "cell_type": "code",
   "execution_count": 5,
   "id": "45896ae4",
   "metadata": {},
   "outputs": [],
   "source": [
    "# Q5. What do the keyword arguments delimiter and line terminator do?"
   ]
  },
  {
   "cell_type": "code",
   "execution_count": null,
   "id": "4eb29df7",
   "metadata": {},
   "outputs": [],
   "source": [
    "Delimiter -> A one-character string used to separate fields. It defaults to ','\n",
    "Lineterminator -> The string used to terminate lines produced by the writer. It defaults to '\\r\\n'"
   ]
  },
  {
   "cell_type": "code",
   "execution_count": null,
   "id": "f726836d",
   "metadata": {},
   "outputs": [],
   "source": []
  },
  {
   "cell_type": "code",
   "execution_count": 6,
   "id": "96189349",
   "metadata": {},
   "outputs": [],
   "source": [
    "# Q6. What function takes a string of JSON data and returns a Python data structure?"
   ]
  },
  {
   "cell_type": "code",
   "execution_count": null,
   "id": "bd2c5361",
   "metadata": {},
   "outputs": [],
   "source": [
    "json.loads()"
   ]
  },
  {
   "cell_type": "code",
   "execution_count": null,
   "id": "eacb8c7c",
   "metadata": {},
   "outputs": [],
   "source": []
  },
  {
   "cell_type": "code",
   "execution_count": 7,
   "id": "fd0443fd",
   "metadata": {},
   "outputs": [],
   "source": [
    "# Q7. What function takes a Python data structure and returns a string of JSON data?"
   ]
  },
  {
   "cell_type": "code",
   "execution_count": null,
   "id": "38a0f78d",
   "metadata": {},
   "outputs": [],
   "source": [
    "json.dumps()"
   ]
  }
 ],
 "metadata": {
  "kernelspec": {
   "display_name": "Python 3 (ipykernel)",
   "language": "python",
   "name": "python3"
  },
  "language_info": {
   "codemirror_mode": {
    "name": "ipython",
    "version": 3
   },
   "file_extension": ".py",
   "mimetype": "text/x-python",
   "name": "python",
   "nbconvert_exporter": "python",
   "pygments_lexer": "ipython3",
   "version": "3.9.12"
  }
 },
 "nbformat": 4,
 "nbformat_minor": 5
}
