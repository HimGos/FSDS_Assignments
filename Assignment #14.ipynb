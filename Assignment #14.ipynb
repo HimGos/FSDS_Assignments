{
 "cells": [
  {
   "cell_type": "code",
   "execution_count": 1,
   "id": "96232a02",
   "metadata": {},
   "outputs": [],
   "source": [
    "# Q1. What does RGBA stand for?"
   ]
  },
  {
   "cell_type": "code",
   "execution_count": null,
   "id": "5c3813ea",
   "metadata": {},
   "outputs": [],
   "source": [
    "Red-Green-Blue-Alpha"
   ]
  },
  {
   "cell_type": "code",
   "execution_count": null,
   "id": "874c8096",
   "metadata": {},
   "outputs": [],
   "source": []
  },
  {
   "cell_type": "code",
   "execution_count": 2,
   "id": "9d4123dd",
   "metadata": {},
   "outputs": [],
   "source": [
    "# Q2. From the Pillow module, how do you get the RGBA value of any images?"
   ]
  },
  {
   "cell_type": "code",
   "execution_count": 24,
   "id": "9b724252",
   "metadata": {},
   "outputs": [],
   "source": [
    "from PIL import Image\n",
    "img = Image.open(\"1.jpg\")\n",
    "rgba_val = img.convert('RGB')\n",
    "result = rgba_val.getdata()\n"
   ]
  },
  {
   "cell_type": "code",
   "execution_count": null,
   "id": "b1c22b66",
   "metadata": {},
   "outputs": [],
   "source": [
    " "
   ]
  },
  {
   "cell_type": "code",
   "execution_count": null,
   "id": "d1b1c182",
   "metadata": {},
   "outputs": [],
   "source": [
    "# Q3. What is a box tuple, and how does it work?"
   ]
  },
  {
   "cell_type": "code",
   "execution_count": null,
   "id": "b8688686",
   "metadata": {},
   "outputs": [],
   "source": [
    "Box tuple takes 4 integer coordinates that represent a rectangular region of an image.\n",
    "It require coordinates in this way -> (Left,Top,Right,Bottom) If done correctly, it will select a rectangular section of image."
   ]
  },
  {
   "cell_type": "code",
   "execution_count": null,
   "id": "0ac2325e",
   "metadata": {},
   "outputs": [],
   "source": []
  },
  {
   "cell_type": "code",
   "execution_count": 25,
   "id": "2afbcab6",
   "metadata": {},
   "outputs": [],
   "source": [
    "# Q4. Use your image and load in notebook then, How can you find out the width and height of an Image object?"
   ]
  },
  {
   "cell_type": "code",
   "execution_count": 26,
   "id": "7ecf8e67",
   "metadata": {},
   "outputs": [
    {
     "data": {
      "text/plain": [
       "1080"
      ]
     },
     "execution_count": 26,
     "metadata": {},
     "output_type": "execute_result"
    }
   ],
   "source": [
    "from PIL import Image\n",
    "img1 = Image.open('1.jpg')\n",
    "img.width"
   ]
  },
  {
   "cell_type": "code",
   "execution_count": 27,
   "id": "c30d88c0",
   "metadata": {},
   "outputs": [
    {
     "data": {
      "text/plain": [
       "1080"
      ]
     },
     "execution_count": 27,
     "metadata": {},
     "output_type": "execute_result"
    }
   ],
   "source": [
    "img.height"
   ]
  },
  {
   "cell_type": "code",
   "execution_count": null,
   "id": "8bc0139d",
   "metadata": {},
   "outputs": [],
   "source": []
  },
  {
   "cell_type": "code",
   "execution_count": 28,
   "id": "f04dfb5e",
   "metadata": {},
   "outputs": [],
   "source": [
    "# Q5.What method would you call to get Image object for a 100×100 image, excluding the lower-left quarter of it?"
   ]
  },
  {
   "cell_type": "code",
   "execution_count": null,
   "id": "1fdd60ac",
   "metadata": {},
   "outputs": [],
   "source": [
    "from PIL import Image\n",
    "img1 = Image.open('1.jpg')    # Object created for 100x100 image \n",
    "wid,hght = img1.size          \n",
    "quarter_img = img1.resize(wid//2,hght//2)\n",
    "quarter_img.save('Quarter.img')"
   ]
  },
  {
   "cell_type": "code",
   "execution_count": null,
   "id": "b9bf4dae",
   "metadata": {},
   "outputs": [],
   "source": []
  },
  {
   "cell_type": "code",
   "execution_count": 29,
   "id": "a736c469",
   "metadata": {},
   "outputs": [],
   "source": [
    "# Q6. After making changes to an Image object, how could you save it as an image file?"
   ]
  },
  {
   "cell_type": "code",
   "execution_count": null,
   "id": "f4370dd0",
   "metadata": {},
   "outputs": [],
   "source": [
    "'obj'.save('imagename')"
   ]
  },
  {
   "cell_type": "code",
   "execution_count": null,
   "id": "6009b506",
   "metadata": {},
   "outputs": [],
   "source": []
  },
  {
   "cell_type": "code",
   "execution_count": null,
   "id": "97dfd715",
   "metadata": {},
   "outputs": [],
   "source": [
    "# Q7. What module contains Pillow’s shape-drawing code?"
   ]
  },
  {
   "cell_type": "code",
   "execution_count": null,
   "id": "4e329c8a",
   "metadata": {},
   "outputs": [],
   "source": [
    "ImageDraw() module allows us to do that.\n",
    "PIL.ImageDraw allows us to call it."
   ]
  },
  {
   "cell_type": "code",
   "execution_count": null,
   "id": "97da6219",
   "metadata": {},
   "outputs": [],
   "source": []
  },
  {
   "cell_type": "code",
   "execution_count": 30,
   "id": "c31dcc14",
   "metadata": {},
   "outputs": [],
   "source": [
    "# Q8. Image objects do not have drawing methods. What kind of object does? How do you get this kind of object?"
   ]
  },
  {
   "cell_type": "code",
   "execution_count": null,
   "id": "4e6e4631",
   "metadata": {},
   "outputs": [],
   "source": [
    "ImageDraw object have drawing methods.\n",
    "\n",
    "from PIL import Image, ImageDraw\n",
    "img2 = Image.open('1.jpg')\n",
    "draw_pic = ImageDraw.Draw(img2)"
   ]
  }
 ],
 "metadata": {
  "kernelspec": {
   "display_name": "Python 3 (ipykernel)",
   "language": "python",
   "name": "python3"
  },
  "language_info": {
   "codemirror_mode": {
    "name": "ipython",
    "version": 3
   },
   "file_extension": ".py",
   "mimetype": "text/x-python",
   "name": "python",
   "nbconvert_exporter": "python",
   "pygments_lexer": "ipython3",
   "version": "3.9.12"
  }
 },
 "nbformat": 4,
 "nbformat_minor": 5
}
