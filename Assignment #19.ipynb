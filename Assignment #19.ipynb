{
 "cells": [
  {
   "cell_type": "code",
   "execution_count": null,
   "id": "aa459c73",
   "metadata": {},
   "outputs": [],
   "source": [
    "# Q1.Make a class called Thing with no contents and print it. Then, create an object called example\n",
    "#    from this class and also print it. Are the printed values the same or different?"
   ]
  },
  {
   "cell_type": "code",
   "execution_count": 24,
   "id": "a875d1a0",
   "metadata": {},
   "outputs": [
    {
     "name": "stdout",
     "output_type": "stream",
     "text": [
      "<class '__main__.Thing'>\n"
     ]
    }
   ],
   "source": [
    "class Thing:\n",
    "    pass\n",
    "print(Thing)"
   ]
  },
  {
   "cell_type": "code",
   "execution_count": 2,
   "id": "ee21c032",
   "metadata": {},
   "outputs": [
    {
     "name": "stdout",
     "output_type": "stream",
     "text": [
      "<__main__.Thing object at 0x000002E94FE87FA0>\n"
     ]
    }
   ],
   "source": [
    "example = Thing()\n",
    "print(example)"
   ]
  },
  {
   "cell_type": "code",
   "execution_count": null,
   "id": "389c749e",
   "metadata": {},
   "outputs": [],
   "source": []
  },
  {
   "cell_type": "code",
   "execution_count": 3,
   "id": "4073a438",
   "metadata": {},
   "outputs": [],
   "source": [
    "# Q2. Create a new class called Thing2 and add the value 'abc' to the letters class attribute. Letters\n",
    "#     should be printed."
   ]
  },
  {
   "cell_type": "code",
   "execution_count": 4,
   "id": "8a2911c2",
   "metadata": {},
   "outputs": [
    {
     "name": "stdout",
     "output_type": "stream",
     "text": [
      "abc\n"
     ]
    }
   ],
   "source": [
    "class Thing2:\n",
    "    letters = 'abc'\n",
    "print(Thing2.letters)"
   ]
  },
  {
   "cell_type": "code",
   "execution_count": null,
   "id": "44858eea",
   "metadata": {},
   "outputs": [],
   "source": []
  },
  {
   "cell_type": "code",
   "execution_count": 5,
   "id": "44b7cf83",
   "metadata": {},
   "outputs": [],
   "source": [
    "# Q3. Make yet another class called, of course, Thing3. This time, assign the value 'xyz' to an instance\n",
    "#     (object) attribute called letters. Print letters. \n",
    "#     Do you need to make an object from the class to do this?"
   ]
  },
  {
   "cell_type": "code",
   "execution_count": 26,
   "id": "e88eb35e",
   "metadata": {},
   "outputs": [
    {
     "ename": "AttributeError",
     "evalue": "type object 'Thing3' has no attribute 'letters'",
     "output_type": "error",
     "traceback": [
      "\u001b[1;31m---------------------------------------------------------------------------\u001b[0m",
      "\u001b[1;31mAttributeError\u001b[0m                            Traceback (most recent call last)",
      "Input \u001b[1;32mIn [26]\u001b[0m, in \u001b[0;36m<cell line: 5>\u001b[1;34m()\u001b[0m\n\u001b[0;32m      2\u001b[0m     \u001b[38;5;28;01mdef\u001b[39;00m \u001b[38;5;21m__init__\u001b[39m(\u001b[38;5;28mself\u001b[39m):\n\u001b[0;32m      3\u001b[0m         \u001b[38;5;28mself\u001b[39m\u001b[38;5;241m.\u001b[39mletters \u001b[38;5;241m=\u001b[39m \u001b[38;5;124m'\u001b[39m\u001b[38;5;124mxyz\u001b[39m\u001b[38;5;124m'\u001b[39m\n\u001b[1;32m----> 5\u001b[0m \u001b[38;5;28mprint\u001b[39m(\u001b[43mThing3\u001b[49m\u001b[38;5;241;43m.\u001b[39;49m\u001b[43mletters\u001b[49m)\n",
      "\u001b[1;31mAttributeError\u001b[0m: type object 'Thing3' has no attribute 'letters'"
     ]
    }
   ],
   "source": [
    "class Thing3:\n",
    "    def __init__(self):\n",
    "        self.letters = 'xyz'\n",
    "\n",
    "print(Thing3.letters)\n"
   ]
  },
  {
   "cell_type": "code",
   "execution_count": 28,
   "id": "5a361670",
   "metadata": {
    "scrolled": true
   },
   "outputs": [
    {
     "name": "stdout",
     "output_type": "stream",
     "text": [
      "xyz\n"
     ]
    }
   ],
   "source": [
    "thing3_obj = Thing3()\n",
    "print(thing3_obj.letters)"
   ]
  },
  {
   "cell_type": "code",
   "execution_count": null,
   "id": "b0c9537c",
   "metadata": {},
   "outputs": [],
   "source": []
  },
  {
   "cell_type": "code",
   "execution_count": 10,
   "id": "76f0dcad",
   "metadata": {},
   "outputs": [],
   "source": [
    "# Q4. Create an Element class with the instance attributes name, symbol, and number. Create a class\n",
    "#     object with the values 'Hydrogen,' 'H,' and 1."
   ]
  },
  {
   "cell_type": "code",
   "execution_count": 29,
   "id": "929bf737",
   "metadata": {},
   "outputs": [],
   "source": [
    "class Element:\n",
    "    def __init__(self,name,symbol,number):\n",
    "        self.name = name\n",
    "        self.symbol = symbol\n",
    "        self.number = number\n",
    "        \n",
    "ele_obj = Element('Hydrgen,','H,',1)"
   ]
  },
  {
   "cell_type": "code",
   "execution_count": null,
   "id": "11066378",
   "metadata": {},
   "outputs": [],
   "source": []
  },
  {
   "cell_type": "code",
   "execution_count": 19,
   "id": "a4539cd9",
   "metadata": {},
   "outputs": [],
   "source": [
    "# Q5. Make a dictionary with these keys and values: 'name':'Hydrogen', 'symbol':'H', 'number': 1.\n",
    "#     Then, create an object called hydrogen from class Element using this dictionary."
   ]
  },
  {
   "cell_type": "code",
   "execution_count": 31,
   "id": "99574259",
   "metadata": {},
   "outputs": [
    {
     "data": {
      "text/plain": [
       "'H'"
      ]
     },
     "execution_count": 31,
     "metadata": {},
     "output_type": "execute_result"
    }
   ],
   "source": [
    "d ={'name':'Hydrogen', 'symbol':'H', 'number': 1}\n",
    "hydrogen = Element(d['name'],d['symbol'],d['number'])\n",
    "\n",
    "hydrogen.symbol"
   ]
  },
  {
   "cell_type": "code",
   "execution_count": null,
   "id": "3ac4ed05",
   "metadata": {},
   "outputs": [],
   "source": []
  },
  {
   "cell_type": "code",
   "execution_count": 32,
   "id": "0da3f352",
   "metadata": {},
   "outputs": [],
   "source": [
    "# Q6. For the Element class, define a method called dump() that prints the values of the object’s\n",
    "#     attributes (name, symbol, and number). Create the hydrogen object from this new definition and\n",
    "#     use dump() to print its attributes."
   ]
  },
  {
   "cell_type": "code",
   "execution_count": 34,
   "id": "c0f7afb5",
   "metadata": {},
   "outputs": [
    {
     "name": "stdout",
     "output_type": "stream",
     "text": [
      "Name-> Hydrogen\n",
      "Symbol-> H\n",
      "Number-> 1\n"
     ]
    }
   ],
   "source": [
    "class Element:\n",
    "    \n",
    "    def __init__(self,name,symbol,number):\n",
    "        self.name = name\n",
    "        self.symbol = symbol\n",
    "        self.number = number\n",
    "    \n",
    "    def dump(self):\n",
    "        print(\"Name->\",self.name)\n",
    "        print(\"Symbol->\",self.symbol)\n",
    "        print(\"Number->\",self.number)\n",
    "        \n",
    "hydrogen = Element(**d)\n",
    "hydrogen.dump()"
   ]
  },
  {
   "cell_type": "code",
   "execution_count": null,
   "id": "a91c0444",
   "metadata": {},
   "outputs": [],
   "source": []
  },
  {
   "cell_type": "code",
   "execution_count": 35,
   "id": "a0004ee7",
   "metadata": {},
   "outputs": [],
   "source": [
    "# Q7. Call print(hydrogen). In the definition of Element, change the name of method dump to __str__,\n",
    "#     create a new hydrogen object, and call print(hydrogen) again."
   ]
  },
  {
   "cell_type": "code",
   "execution_count": 36,
   "id": "7bb45f47",
   "metadata": {},
   "outputs": [
    {
     "name": "stdout",
     "output_type": "stream",
     "text": [
      "<__main__.Element object at 0x000002E95278A580>\n"
     ]
    }
   ],
   "source": [
    "print(hydrogen)"
   ]
  },
  {
   "cell_type": "code",
   "execution_count": 40,
   "id": "b489d9b2",
   "metadata": {},
   "outputs": [
    {
     "name": "stdout",
     "output_type": "stream",
     "text": [
      "Name->Hydrogen ,Symbol->H ,Number->1 \n"
     ]
    }
   ],
   "source": [
    "class Element:\n",
    "    \n",
    "    def __init__(self,name,symbol,number):\n",
    "        self.name = name\n",
    "        self.symbol = symbol\n",
    "        self.number = number\n",
    "    \n",
    "    def __str__(self):\n",
    "        return (\"Name->{} ,Symbol->{} ,Number->{} \".format(self.name,self.symbol,self.number))\n",
    "        \n",
    "\n",
    "hydrogen = Element(**d)\n",
    "print(hydrogen)"
   ]
  },
  {
   "cell_type": "code",
   "execution_count": null,
   "id": "0d5dd088",
   "metadata": {},
   "outputs": [],
   "source": []
  },
  {
   "cell_type": "code",
   "execution_count": 41,
   "id": "14cc92e2",
   "metadata": {},
   "outputs": [],
   "source": [
    "# Q8. Modify Element to make the attributes name, symbol, and number private. Define a getter\n",
    "#     property for each to return its value."
   ]
  },
  {
   "cell_type": "code",
   "execution_count": 45,
   "id": "53a87b1c",
   "metadata": {},
   "outputs": [
    {
     "data": {
      "text/plain": [
       "'H'"
      ]
     },
     "execution_count": 45,
     "metadata": {},
     "output_type": "execute_result"
    }
   ],
   "source": [
    "class Element:\n",
    "    \n",
    "    def __init__(self,name,symbol,number):\n",
    "        self.__name = name\n",
    "        self.__symbol = symbol\n",
    "        self.__number = number\n",
    "    @property\n",
    "    def get_name(self):\n",
    "        return self.__name\n",
    "    @property\n",
    "    def get_symbol(self):\n",
    "        return self.__symbol\n",
    "    @property\n",
    "    def get_number(self):\n",
    "        return self.__number\n",
    "    \n",
    "hydrogen = Element(**d)\n",
    "hydrogen.get_symbol"
   ]
  },
  {
   "cell_type": "code",
   "execution_count": null,
   "id": "1a371c27",
   "metadata": {},
   "outputs": [],
   "source": []
  },
  {
   "cell_type": "code",
   "execution_count": 46,
   "id": "7a884238",
   "metadata": {},
   "outputs": [],
   "source": [
    "# Q9. Define three classes: Bear, Rabbit, and Octothorpe. For each, define only one method: eats(). \n",
    "#     This should return 'berries'(Bear), 'clover'(Rabbit), or 'campers'(Octothorpe).\n",
    "#     Create one object from each and print what it eats."
   ]
  },
  {
   "cell_type": "code",
   "execution_count": 47,
   "id": "649e4929",
   "metadata": {},
   "outputs": [
    {
     "data": {
      "text/plain": [
       "'berries'"
      ]
     },
     "execution_count": 47,
     "metadata": {},
     "output_type": "execute_result"
    }
   ],
   "source": [
    "class Bear:\n",
    "    def eats(self):\n",
    "        return 'berries'\n",
    "    \n",
    "class Rabbit:\n",
    "    def eats(self):\n",
    "        return 'clover'\n",
    "    \n",
    "\n",
    "class Octothorpe:\n",
    "    def eats(self):\n",
    "        return 'campers'\n",
    "\n",
    "b_obj = Bear()\n",
    "b_obj.eats()"
   ]
  },
  {
   "cell_type": "code",
   "execution_count": 48,
   "id": "9eafdaeb",
   "metadata": {},
   "outputs": [
    {
     "data": {
      "text/plain": [
       "'clover'"
      ]
     },
     "execution_count": 48,
     "metadata": {},
     "output_type": "execute_result"
    }
   ],
   "source": [
    "r_obj = Rabbit()\n",
    "r_obj.eats()"
   ]
  },
  {
   "cell_type": "code",
   "execution_count": 49,
   "id": "a0f18d43",
   "metadata": {},
   "outputs": [
    {
     "data": {
      "text/plain": [
       "'campers'"
      ]
     },
     "execution_count": 49,
     "metadata": {},
     "output_type": "execute_result"
    }
   ],
   "source": [
    "o_obj = Octothorpe()\n",
    "o_obj.eats()"
   ]
  },
  {
   "cell_type": "code",
   "execution_count": null,
   "id": "5f6a2cc7",
   "metadata": {},
   "outputs": [],
   "source": []
  },
  {
   "cell_type": "code",
   "execution_count": 50,
   "id": "612728a3",
   "metadata": {},
   "outputs": [],
   "source": [
    "# Q10. Define these classes: Laser, Claw, and SmartPhone. Each has only one method: does(). \n",
    "#      This returns 'disintegrate' (Laser), 'crush' (Claw), or 'ring' (SmartPhone). \n",
    "#      Then, define the class Robot that has one instance (object) of each of these. \n",
    "#      Define a does() method for the Robot that prints what its component objects do."
   ]
  },
  {
   "cell_type": "code",
   "execution_count": 66,
   "id": "ca3a4866",
   "metadata": {},
   "outputs": [],
   "source": [
    "class Laser:\n",
    "    def does(self):\n",
    "        return 'disintegrate'\n",
    "    \n",
    "class Claw:\n",
    "    def does(self):\n",
    "        return 'crush'\n",
    "\n",
    "class SmartPhone:\n",
    "    def does(self):\n",
    "        return 'ring'\n",
    "    \n",
    "class Robot:\n",
    "    def __init__(self):\n",
    "        self.laser = Laser()\n",
    "        self.claw = Claw()\n",
    "        self.smartPhone = SmartPhone()\n",
    "    \n",
    "    def does(self):\n",
    "        return \"Laser-> {} \\n Claw-> {} \\n SmartPhone-> {}\".format(self.laser.does(),self.claw.does(),self.smartPhone.does())\n"
   ]
  },
  {
   "cell_type": "code",
   "execution_count": 67,
   "id": "9c44ec0e",
   "metadata": {},
   "outputs": [
    {
     "name": "stdout",
     "output_type": "stream",
     "text": [
      "Laser-> disintegrate \n",
      " Claw-> crush \n",
      " SmartPhone-> ring\n"
     ]
    }
   ],
   "source": [
    "rob = Robot()\n",
    "print(rob.does())"
   ]
  },
  {
   "cell_type": "code",
   "execution_count": null,
   "id": "00cf346f",
   "metadata": {},
   "outputs": [],
   "source": []
  }
 ],
 "metadata": {
  "kernelspec": {
   "display_name": "Python 3 (ipykernel)",
   "language": "python",
   "name": "python3"
  },
  "language_info": {
   "codemirror_mode": {
    "name": "ipython",
    "version": 3
   },
   "file_extension": ".py",
   "mimetype": "text/x-python",
   "name": "python",
   "nbconvert_exporter": "python",
   "pygments_lexer": "ipython3",
   "version": "3.9.12"
  }
 },
 "nbformat": 4,
 "nbformat_minor": 5
}
