{
 "cells": [
  {
   "cell_type": "code",
   "execution_count": 1,
   "id": "4c9bb6a6",
   "metadata": {},
   "outputs": [],
   "source": [
    "# Q1. What are the two values of the Boolean data type? How do you write them?"
   ]
  },
  {
   "cell_type": "code",
   "execution_count": null,
   "id": "af0de4a6",
   "metadata": {},
   "outputs": [],
   "source": [
    "True and False are the two values of Boolean data type and written as True and False."
   ]
  },
  {
   "cell_type": "code",
   "execution_count": 2,
   "id": "69664460",
   "metadata": {},
   "outputs": [],
   "source": [
    "# Q2. 3 Different types of boolean operators?"
   ]
  },
  {
   "cell_type": "code",
   "execution_count": null,
   "id": "dcd62c39",
   "metadata": {},
   "outputs": [],
   "source": [
    "1. and   \n",
    "2. or\n",
    "3. not"
   ]
  },
  {
   "cell_type": "code",
   "execution_count": 3,
   "id": "63695809",
   "metadata": {},
   "outputs": [],
   "source": [
    "# Q3. Make a list of each Boolean operator's truth tables (i.e. every possible combination of Boolean values for the \n",
    "#     operator and what it evaluate )."
   ]
  },
  {
   "cell_type": "code",
   "execution_count": null,
   "id": "96d61530",
   "metadata": {},
   "outputs": [],
   "source": [
    "1.  and \n",
    "\n",
    "This operators returns True if All of the inputs are true in an expression.\n",
    "\n",
    "True and True   -> True\n",
    "False and True  -> False\n",
    "True and False  -> False\n",
    "False and False -> False\n",
    "\n",
    "2. or \n",
    "\n",
    "This operator returns True if ANY of the input in an expression is true.\n",
    "\n",
    "True or True   -> True\n",
    "False or True  -> True\n",
    "True or False  -> True\n",
    "False or False -> False\n",
    "\n",
    "3. not\n",
    "\n",
    "This operator returns the negation of argument, turns True to Flase and Flase to True.\n",
    "\n",
    "A -> True\n",
    "notA -> False\n",
    "\n"
   ]
  },
  {
   "cell_type": "code",
   "execution_count": 4,
   "id": "6398863b",
   "metadata": {},
   "outputs": [],
   "source": [
    "# Q4. What are the values of the following expressions?\n",
    "#     (5 > 4) and (3 == 5)\n",
    "#     not (5 > 4)\n",
    "#     (5 > 4) or (3 == 5)\n",
    "#     not ((5 > 4) or (3 == 5))\n",
    "#     (True and True) and (True == False)\n",
    "#     (not False) or (not True)"
   ]
  },
  {
   "cell_type": "code",
   "execution_count": null,
   "id": "f429522a",
   "metadata": {},
   "outputs": [],
   "source": [
    "(5 > 4) and (3 == 5)                 --> False \n",
    "not (5 > 4)                          --> False\n",
    "(5 > 4) or (3 == 5)                  --> True \n",
    "not ((5 > 4) or (3 == 5))            --> False\n",
    "(True and True) and (True == False)  --> False\n",
    "(not False) or (not True)            --> True"
   ]
  },
  {
   "cell_type": "code",
   "execution_count": 5,
   "id": "db659f8e",
   "metadata": {},
   "outputs": [],
   "source": [
    "# Q5. What are the six comparison operators?"
   ]
  },
  {
   "cell_type": "code",
   "execution_count": null,
   "id": "65ecdf1f",
   "metadata": {},
   "outputs": [],
   "source": [
    ">  Greater than\n",
    "<  Lesser than\n",
    ">= Greater than or equal to\n",
    "<= Lesser than or equal to\n",
    "== Equivalent to\n",
    "!= Not Equivalent to"
   ]
  },
  {
   "cell_type": "code",
   "execution_count": 6,
   "id": "daf80544",
   "metadata": {},
   "outputs": [],
   "source": [
    "# Q6. How do you tell the difference between the equal to and assignment operators? Describe a condition \n",
    "#     and when you would use one."
   ]
  },
  {
   "cell_type": "code",
   "execution_count": null,
   "id": "ee009245",
   "metadata": {},
   "outputs": [],
   "source": [
    "equal to operator require double equal sign ==\n",
    "assignment operator require single equal    =\n",
    "\n",
    "If a coder wish to assign a value to let say any variable then (s)he can use = sign.\n",
    "But in case of checking if any input or variable is equivalent to other one then == is used."
   ]
  },
  {
   "cell_type": "code",
   "execution_count": 7,
   "id": "82cc55e7",
   "metadata": {},
   "outputs": [],
   "source": [
    "# Q7. 3 Blocks in the code."
   ]
  },
  {
   "cell_type": "code",
   "execution_count": null,
   "id": "5039f5a9",
   "metadata": {},
   "outputs": [],
   "source": [
    "spam = 0\n",
    "\n",
    "if spam == 10:\n",
    "    print('eggs')             # block 1\n",
    "\n",
    "if spam>5 :\n",
    "    print('bacon')            # block 2\n",
    "\n",
    "else :\n",
    "    print('ham')\n",
    "    print('spam')             # block 3\n",
    "    print('spam')"
   ]
  },
  {
   "cell_type": "code",
   "execution_count": 8,
   "id": "bf3f2a52",
   "metadata": {},
   "outputs": [],
   "source": [
    "# Q8. Write code that prints Hello if 1 is stored in spam, prints Howdy if 2 is stored in spam, and prints\n",
    "#     Greetings! if anything else is stored in spam."
   ]
  },
  {
   "cell_type": "code",
   "execution_count": null,
   "id": "c203c620",
   "metadata": {},
   "outputs": [],
   "source": [
    "spam = 0\n",
    "if spam == 1:\n",
    "    print('Hello')\n",
    "elif spam == 2:\n",
    "    print('Howdy')\n",
    "else :\n",
    "    print('Greetings!')"
   ]
  },
  {
   "cell_type": "code",
   "execution_count": 9,
   "id": "267165f0",
   "metadata": {},
   "outputs": [],
   "source": [
    "# Q9. If your programme is stuck in an endless loop, what keys you’ll press?"
   ]
  },
  {
   "cell_type": "code",
   "execution_count": null,
   "id": "f43a3482",
   "metadata": {},
   "outputs": [],
   "source": [
    "Answer depends on the IDE we are using, though Ctrl+C key can stop the endless loop. "
   ]
  },
  {
   "cell_type": "code",
   "execution_count": 10,
   "id": "ab2ebdd2",
   "metadata": {},
   "outputs": [],
   "source": [
    "# Q10. How can you tell the difference between break and continue?"
   ]
  },
  {
   "cell_type": "code",
   "execution_count": null,
   "id": "04cab2d3",
   "metadata": {},
   "outputs": [],
   "source": [
    "break keyword breaks the ENTIRE loop.\n",
    "continue keyword skips the remaining iteration and starts loop again for next iteration."
   ]
  },
  {
   "cell_type": "code",
   "execution_count": 11,
   "id": "16817e8f",
   "metadata": {},
   "outputs": [],
   "source": [
    "# Q11. In a for loop, what is the difference between range(10), range(0, 10), and range(0, 10, 1)?"
   ]
  },
  {
   "cell_type": "code",
   "execution_count": null,
   "id": "e524855f",
   "metadata": {},
   "outputs": [],
   "source": [
    "range(10) means sequence will start from 0 till 9. 0 is the default starting point.\n",
    "range(0,10) is same as range(10), start from 0 till 9. We have just mentioned the starting point clearly.\n",
    "range(0,10,1) is also same like above, we have added the steps too. By default step is 1, here we just mentioned it.\n",
    "\n",
    "Output is same in all three."
   ]
  },
  {
   "cell_type": "code",
   "execution_count": 12,
   "id": "8ad167c1",
   "metadata": {},
   "outputs": [],
   "source": [
    "# Q12. Write a short program that prints the numbers 1 to 10 using a for loop. Then write an equivalent\n",
    "#      program that prints the numbers 1 to 10 using a while loop."
   ]
  },
  {
   "cell_type": "code",
   "execution_count": 13,
   "id": "c713f93f",
   "metadata": {},
   "outputs": [
    {
     "name": "stdout",
     "output_type": "stream",
     "text": [
      "1 2 3 4 5 6 7 8 9 10 "
     ]
    }
   ],
   "source": [
    "for i in range(1,11):\n",
    "    print(i,end=\" \")"
   ]
  },
  {
   "cell_type": "code",
   "execution_count": 14,
   "id": "c65e688d",
   "metadata": {},
   "outputs": [
    {
     "name": "stdout",
     "output_type": "stream",
     "text": [
      "1 2 3 4 5 6 7 8 9 10 "
     ]
    }
   ],
   "source": [
    "i = 1\n",
    "while i <=10 :\n",
    "    print(i,end=\" \")\n",
    "    i+=1"
   ]
  },
  {
   "cell_type": "code",
   "execution_count": 15,
   "id": "62221a52",
   "metadata": {},
   "outputs": [],
   "source": [
    "# Q13. If you had a function named bacon() inside a module named spam, how would you call it after importing spam?"
   ]
  },
  {
   "cell_type": "code",
   "execution_count": null,
   "id": "fa6b0685",
   "metadata": {},
   "outputs": [],
   "source": [
    "import spam\n",
    "\n",
    "spam.bacon()"
   ]
  },
  {
   "cell_type": "code",
   "execution_count": null,
   "id": "772f5d4b",
   "metadata": {},
   "outputs": [],
   "source": []
  },
  {
   "cell_type": "code",
   "execution_count": null,
   "id": "a27d7b24",
   "metadata": {},
   "outputs": [],
   "source": [
    "\"\"\"\n",
    "\n",
    "Thank You :)\n",
    "\n",
    "\"\"\""
   ]
  }
 ],
 "metadata": {
  "kernelspec": {
   "display_name": "Python 3 (ipykernel)",
   "language": "python",
   "name": "python3"
  },
  "language_info": {
   "codemirror_mode": {
    "name": "ipython",
    "version": 3
   },
   "file_extension": ".py",
   "mimetype": "text/x-python",
   "name": "python",
   "nbconvert_exporter": "python",
   "pygments_lexer": "ipython3",
   "version": "3.9.12"
  }
 },
 "nbformat": 4,
 "nbformat_minor": 5
}
