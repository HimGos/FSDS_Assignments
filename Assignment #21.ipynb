{
 "cells": [
  {
   "cell_type": "markdown",
   "id": "7da56abd",
   "metadata": {},
   "source": [
    "#### Q1. Add the current date to the text file today.txt as a string."
   ]
  },
  {
   "cell_type": "code",
   "execution_count": 2,
   "id": "1fa78fb6",
   "metadata": {},
   "outputs": [],
   "source": [
    "import datetime\n",
    "st = str(datetime.date.today())\n",
    "file = open('today.txt', 'w')\n",
    "file.write(st)\n",
    "file.close()"
   ]
  },
  {
   "cell_type": "code",
   "execution_count": null,
   "id": "518e9387",
   "metadata": {},
   "outputs": [],
   "source": []
  },
  {
   "cell_type": "markdown",
   "id": "390ee02a",
   "metadata": {},
   "source": [
    "#### Q2. Read the text file today.txt into the string today_string"
   ]
  },
  {
   "cell_type": "code",
   "execution_count": 3,
   "id": "6147d13c",
   "metadata": {},
   "outputs": [],
   "source": [
    "today_string = open('today.txt','r')"
   ]
  },
  {
   "cell_type": "code",
   "execution_count": null,
   "id": "1364259e",
   "metadata": {},
   "outputs": [],
   "source": []
  },
  {
   "cell_type": "markdown",
   "id": "06fdb240",
   "metadata": {},
   "source": [
    "#### Q3. Parse the date from today_string."
   ]
  },
  {
   "cell_type": "code",
   "execution_count": 4,
   "id": "cd178c7e",
   "metadata": {},
   "outputs": [
    {
     "name": "stdout",
     "output_type": "stream",
     "text": [
      "2022-07-15\n"
     ]
    }
   ],
   "source": [
    "print(today_string.read())"
   ]
  },
  {
   "cell_type": "code",
   "execution_count": 5,
   "id": "91df9297",
   "metadata": {},
   "outputs": [],
   "source": [
    "today_string.close()"
   ]
  },
  {
   "cell_type": "code",
   "execution_count": null,
   "id": "ab918a5c",
   "metadata": {},
   "outputs": [],
   "source": []
  },
  {
   "cell_type": "markdown",
   "id": "7f2fdee8",
   "metadata": {},
   "source": [
    "#### Q4. List the files in your current directory"
   ]
  },
  {
   "cell_type": "code",
   "execution_count": 9,
   "id": "f130d5ed",
   "metadata": {},
   "outputs": [
    {
     "name": "stdout",
     "output_type": "stream",
     "text": [
      "C:\\Users\\Himz\\Assignments \n",
      "\n",
      " ['Apractice.ipynb', 'Assignment #1.ipynb', 'Assignment #10.ipynb', 'Assignment #11.ipynb', 'Assignment #12.ipynb', 'Assignment #13.ipynb', 'Assignment #14.ipynb', 'Assignment #15.ipynb', 'Assignment #16.ipynb', 'Assignment #18.ipynb', 'Assignment #19.ipynb', 'Assignment #2.ipynb', 'Assignment #21.ipynb', 'Assignment #22.ipynb', 'Assignment #3.ipynb', 'Assignment #4.ipynb', 'Assignment #5.ipynb', 'Assignment #6.ipynb', 'Assignment #7.ipynb', 'Assignment #8.ipynb', 'Assignment #9.ipynb', 'Python Advance Assignment #1.ipynb', 'Python Advance Assignment #2.ipynb', 'Python Advance Assignment #3.ipynb', 'zoo.ipynb']\n"
     ]
    }
   ],
   "source": [
    "import os\n",
    "current_dir = os.getcwd()\n",
    "all_items = os.listdir()\n",
    "only_files = [i for i in all_items if i.endswith('.ipynb')]\n",
    "\n",
    "print(current_dir,'\\n\\n',only_files)"
   ]
  },
  {
   "cell_type": "code",
   "execution_count": null,
   "id": "88aa5f42",
   "metadata": {},
   "outputs": [],
   "source": []
  },
  {
   "cell_type": "markdown",
   "id": "4e5e93f0",
   "metadata": {},
   "source": [
    "#### Q5. Create a list of all of the files in your parent directory (minimum five files should be available)."
   ]
  },
  {
   "cell_type": "code",
   "execution_count": 12,
   "id": "6a0b6da7",
   "metadata": {},
   "outputs": [
    {
     "name": "stdout",
     "output_type": "stream",
     "text": [
      "C:\\Users\\Himz \n",
      "\n",
      " ['Basic File Handling.ipynb', 'Class - Abstraction & Inheritence.ipynb', 'Exception Handling Revision.ipynb', 'Exception Handling.ipynb', 'For Loop Assignment.ipynb', 'For Loop.ipynb', 'Function Class #2  & Assignment.ipynb', 'Iterator, Iterables & Generator.ipynb', 'Logging.ipynb', 'Map, Reduce & Filter.ipynb', 'Revision1.ipynb', 'String , list, tuple, set manipulation.ipynb', 'Untitled1.ipynb', 'Untitled2.ipynb', 'Untitled4.ipynb', 'While Loop & Function - Challenge.ipynb', 'While Loop & Functions Intro.ipynb']\n"
     ]
    }
   ],
   "source": [
    "import os\n",
    "current_dir = os.getcwd()\n",
    "parent_dir = os.path.dirname(current_dir)\n",
    "all_items = os.listdir(parent_dir)\n",
    "only_files = [i for i in all_items if i.endswith('.ipynb')]\n",
    "\n",
    "print(parent_dir,'\\n\\n',only_files)"
   ]
  },
  {
   "cell_type": "code",
   "execution_count": null,
   "id": "2a62f14e",
   "metadata": {},
   "outputs": [],
   "source": []
  },
  {
   "cell_type": "markdown",
   "id": "3fac1c9a",
   "metadata": {},
   "source": [
    "#### Q6. Use multiprocessing to create three separate processes. Make each one wait a random number of seconds between one and five, \n",
    "####         print the current time, and then exit."
   ]
  },
  {
   "cell_type": "code",
   "execution_count": null,
   "id": "7648b8f5",
   "metadata": {},
   "outputs": [],
   "source": [
    "import multiprocessing as mulpro\n",
    "import time\n",
    "import random\n",
    "\n",
    "def time_now():\n",
    "    time.sleep(random.randint(1, 5))\n",
    "    print(time.strftime(\"%H:%M:%S\"))\n",
    "\n",
    "\n",
    "# start = time.time()\n",
    "\n",
    "if __name__ == \"__main__\":\n",
    "    p1 = mulpro.Process(target=time_now)\n",
    "    p2 = mulpro.Process(target=time_now)\n",
    "    p3 = mulpro.Process(target=time_now)\n",
    "\n",
    "    p1.start()\n",
    "    p2.start()\n",
    "    p3.start()\n",
    "\n",
    "    p1.join()\n",
    "    p2.join()\n",
    "    p3.join()\n",
    "    print(\"Done!\")"
   ]
  },
  {
   "cell_type": "code",
   "execution_count": null,
   "id": "a00b3fd4",
   "metadata": {},
   "outputs": [],
   "source": []
  },
  {
   "cell_type": "markdown",
   "id": "2e543d54",
   "metadata": {},
   "source": [
    "#### Q7. Create a date object of your day of birth."
   ]
  },
  {
   "cell_type": "code",
   "execution_count": 6,
   "id": "39add2b5",
   "metadata": {},
   "outputs": [],
   "source": [
    "import calendar\n",
    "\n",
    "date = calendar.weekday(1996,4,24)"
   ]
  },
  {
   "cell_type": "code",
   "execution_count": null,
   "id": "5554766b",
   "metadata": {},
   "outputs": [],
   "source": []
  },
  {
   "cell_type": "markdown",
   "id": "6e3fe836",
   "metadata": {},
   "source": [
    "#### Q8. What day of the week was your day of birth?"
   ]
  },
  {
   "cell_type": "code",
   "execution_count": 7,
   "id": "002262e3",
   "metadata": {},
   "outputs": [
    {
     "name": "stdout",
     "output_type": "stream",
     "text": [
      "Wednesday\n"
     ]
    }
   ],
   "source": [
    "day_name = calendar.day_name[date]\n",
    "print(day_name)"
   ]
  },
  {
   "cell_type": "code",
   "execution_count": null,
   "id": "4afbcec4",
   "metadata": {},
   "outputs": [],
   "source": []
  },
  {
   "cell_type": "markdown",
   "id": "83774102",
   "metadata": {},
   "source": [
    "#### Q9. When will you be (or when were you) 10,000 days old?"
   ]
  },
  {
   "cell_type": "code",
   "execution_count": 8,
   "id": "49062b94",
   "metadata": {},
   "outputs": [
    {
     "name": "stdout",
     "output_type": "stream",
     "text": [
      "2023-09-10 00:00:00\n"
     ]
    }
   ],
   "source": [
    "import datetime\n",
    "\n",
    "dob = \"1996-04-24\"\n",
    "obj = datetime.datetime.strptime(dob,\"%Y-%m-%d\")\n",
    "prediction = obj + datetime.timedelta(days=10000)\n",
    "\n",
    "print(prediction)\n"
   ]
  },
  {
   "cell_type": "code",
   "execution_count": null,
   "id": "9b3428d3",
   "metadata": {},
   "outputs": [],
   "source": []
  }
 ],
 "metadata": {
  "kernelspec": {
   "display_name": "Python 3 (ipykernel)",
   "language": "python",
   "name": "python3"
  },
  "language_info": {
   "codemirror_mode": {
    "name": "ipython",
    "version": 3
   },
   "file_extension": ".py",
   "mimetype": "text/x-python",
   "name": "python",
   "nbconvert_exporter": "python",
   "pygments_lexer": "ipython3",
   "version": "3.9.12"
  }
 },
 "nbformat": 4,
 "nbformat_minor": 5
}
