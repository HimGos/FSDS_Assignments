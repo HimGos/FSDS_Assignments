{
 "cells": [
  {
   "cell_type": "raw",
   "id": "31596992",
   "metadata": {},
   "source": [
    "Q1. What is the result of the code, and explain?\n",
    "\n",
    "X = 'iNeuron'\n",
    "def func():\n",
    "    print(X)\n",
    "\n",
    "func()"
   ]
  },
  {
   "cell_type": "code",
   "execution_count": null,
   "id": "89035386",
   "metadata": {},
   "outputs": [],
   "source": [
    "iNeuron get's printed because it's a global variable and calling it using print function within a funtion work."
   ]
  },
  {
   "cell_type": "code",
   "execution_count": null,
   "id": "027001eb",
   "metadata": {},
   "outputs": [],
   "source": []
  },
  {
   "cell_type": "raw",
   "id": "5bbde6ef",
   "metadata": {},
   "source": [
    "Q2. What is the result of the code, and explain?\n",
    "\n",
    "X = 'iNeuron'\n",
    "def func():\n",
    "    X = 'NI!'\n",
    "\n",
    "func()\n",
    "print(X)"
   ]
  },
  {
   "cell_type": "code",
   "execution_count": null,
   "id": "4167d449",
   "metadata": {},
   "outputs": [],
   "source": [
    "iNeuron get's printed because it's a global variable. Changing it's value within function just makes it available in\n",
    "function scope, outside the function it's global and retains value."
   ]
  },
  {
   "cell_type": "code",
   "execution_count": null,
   "id": "7d54dd36",
   "metadata": {},
   "outputs": [],
   "source": []
  },
  {
   "cell_type": "raw",
   "id": "323038f1",
   "metadata": {},
   "source": [
    "Q3. What does this code print, and why?\n",
    "\n",
    "X = 'iNeuron'\n",
    "def func():\n",
    "    X = 'NI'\n",
    "    print(X)\n",
    "\n",
    "func()\n",
    "print(X)"
   ]
  },
  {
   "cell_type": "code",
   "execution_count": null,
   "id": "d82d5a2d",
   "metadata": {},
   "outputs": [],
   "source": [
    "NI\n",
    "iNeuron\n",
    "\n",
    "This gets printed because changing global variable X inside function makes the new value valid within function scope only.\n",
    "Since we called func() first, so first X value within func() get's called."
   ]
  },
  {
   "cell_type": "code",
   "execution_count": null,
   "id": "b0e4c5d1",
   "metadata": {},
   "outputs": [],
   "source": []
  },
  {
   "cell_type": "raw",
   "id": "ce90594a",
   "metadata": {},
   "source": [
    "Q4. What output does this code produce? Why?\n",
    "\n",
    "X = 'iNeuron'\n",
    "def func():\n",
    "    global X\n",
    "    X = 'NI'\n",
    "\n",
    "func()\n",
    "print(X)"
   ]
  },
  {
   "cell_type": "code",
   "execution_count": null,
   "id": "d4992f2e",
   "metadata": {},
   "outputs": [],
   "source": [
    "NI\n",
    "\n",
    "Value of X got changed since we used the global keyword.\n",
    "global keyword allows us to modify the global variable within the func() space."
   ]
  },
  {
   "cell_type": "code",
   "execution_count": null,
   "id": "e26e0666",
   "metadata": {},
   "outputs": [],
   "source": []
  },
  {
   "cell_type": "raw",
   "id": "ba3d7ffe",
   "metadata": {},
   "source": [
    "Q5. What about this code—what’s the output, and why?\n",
    "\n",
    "X = 'iNeuron'\n",
    "def func():\n",
    "    X = 'NI'\n",
    "    def nested():\n",
    "        print(X)\n",
    "    nested()\n",
    "\n",
    "func()\n",
    "X"
   ]
  },
  {
   "cell_type": "code",
   "execution_count": null,
   "id": "77118f13",
   "metadata": {},
   "outputs": [],
   "source": [
    "NI\n",
    "'iNeuron'\n",
    "\n",
    "This output came because when we call func() , it called it's nested loop which is having print function.\n",
    "And that print function is printing the value of X defined within the scope.\n",
    "Lastly, global scope X get's printed."
   ]
  },
  {
   "cell_type": "code",
   "execution_count": null,
   "id": "1ea866e1",
   "metadata": {},
   "outputs": [],
   "source": []
  },
  {
   "cell_type": "raw",
   "id": "459e7a48",
   "metadata": {},
   "source": [
    "Q6. How about this code: what is its output in Python 3, and explain?\n",
    "\n",
    "def func():\n",
    "    X = 'NI'\n",
    "    def nested():\n",
    "        nonlocal X\n",
    "        X = 'Spam'\n",
    "    nested()\n",
    "    print(X)\n",
    "\n",
    "func()"
   ]
  },
  {
   "cell_type": "code",
   "execution_count": null,
   "id": "0e3d931d",
   "metadata": {},
   "outputs": [],
   "source": [
    "Spam\n",
    "\n",
    "In nested function, nonlocal keyword is used which prevents it from taking value of outer function variable.\n",
    "It allows inner function to define it's own value of same variable."
   ]
  }
 ],
 "metadata": {
  "kernelspec": {
   "display_name": "Python 3 (ipykernel)",
   "language": "python",
   "name": "python3"
  },
  "language_info": {
   "codemirror_mode": {
    "name": "ipython",
    "version": 3
   },
   "file_extension": ".py",
   "mimetype": "text/x-python",
   "name": "python",
   "nbconvert_exporter": "python",
   "pygments_lexer": "ipython3",
   "version": "3.9.12"
  }
 },
 "nbformat": 4,
 "nbformat_minor": 5
}
