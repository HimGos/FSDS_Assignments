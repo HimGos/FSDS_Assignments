{
 "cells": [
  {
   "cell_type": "code",
   "execution_count": 1,
   "id": "5dd4f716",
   "metadata": {},
   "outputs": [
    {
     "name": "stdout",
     "output_type": "stream",
     "text": [
      "1 2 8\n"
     ]
    }
   ],
   "source": [
    "# Q1. What is the result of the code, and why?\n",
    "\n",
    "def func(a, b=6, c=8):\n",
    "    print(a, b, c)\n",
    "func(1, 2)"
   ]
  },
  {
   "cell_type": "code",
   "execution_count": null,
   "id": "f40fdf98",
   "metadata": {},
   "outputs": [],
   "source": [
    "Result -> 1 2 8\n",
    "\n",
    "In above code, argument 'a' was supposed to be input by the user. So in func() whatever first value we pass, it will be \n",
    "assigned to argument 'a'. \n",
    "\n",
    "'b' and 'c' are given default values that means even if we pass value for b and c in func(), they will take their default values.\n",
    "If we pass any value to 'b' and 'c', like in above case we did with 'b' then value gets override"
   ]
  },
  {
   "cell_type": "markdown",
   "id": "d5ab428b",
   "metadata": {},
   "source": [
    "# "
   ]
  },
  {
   "cell_type": "code",
   "execution_count": 2,
   "id": "91794b06",
   "metadata": {},
   "outputs": [
    {
     "name": "stdout",
     "output_type": "stream",
     "text": [
      "1 2 3\n"
     ]
    }
   ],
   "source": [
    "# Q2. What is the result of this code, and why?\n",
    "\n",
    "def func(a, b, c=5):\n",
    "    print(a, b, c)\n",
    "func(1, c=3, b=2)"
   ]
  },
  {
   "cell_type": "code",
   "execution_count": null,
   "id": "d781da2f",
   "metadata": {},
   "outputs": [],
   "source": [
    "Result -> 1 2 3\n",
    "\n",
    "In above code 'a' as usual took the first value passed in func().\n",
    "argument 'b' is written in func() definition right after 'a', so it will always follow 'a' whenever func() will be called.\n",
    "argument 'c' value got override when we called the function and assigned value to it. But it followed 'b' in result because\n",
    "while function assignment they had the same order."
   ]
  },
  {
   "cell_type": "markdown",
   "id": "a80fcb34",
   "metadata": {},
   "source": [
    "# "
   ]
  },
  {
   "cell_type": "code",
   "execution_count": 3,
   "id": "511378c7",
   "metadata": {},
   "outputs": [
    {
     "name": "stdout",
     "output_type": "stream",
     "text": [
      "1 (2, 3)\n"
     ]
    }
   ],
   "source": [
    "# Q3. How about this code: what is its result, and why?\n",
    "\n",
    "def func(a, *pargs):\n",
    "    print(a, pargs)\n",
    "func(1, 2, 3)"
   ]
  },
  {
   "cell_type": "code",
   "execution_count": null,
   "id": "f4cb0e6b",
   "metadata": {},
   "outputs": [],
   "source": [
    "Result -> 1 (2,3)\n",
    "\n",
    "Here we have used *args (Non-Keyword Argument) and all values that fall under it are returned in a tuple.\n",
    "argument 'a' is assigned before *pargs during function definition. So during function call, first passed assigned in func()\n",
    "will be assigned to 'a' and all values after it will be assigned to *pargs within a tuple, like (2,3)"
   ]
  },
  {
   "cell_type": "markdown",
   "id": "fef69f35",
   "metadata": {},
   "source": [
    "# "
   ]
  },
  {
   "cell_type": "code",
   "execution_count": 4,
   "id": "e09c41b8",
   "metadata": {},
   "outputs": [
    {
     "name": "stdout",
     "output_type": "stream",
     "text": [
      "1 {'c': 3, 'b': 2}\n"
     ]
    }
   ],
   "source": [
    "# Q4. What does this code print, and why?\n",
    "\n",
    "def func(a, **kargs):\n",
    "    print(a, kargs)\n",
    "func(a=1, c=3, b=2)"
   ]
  },
  {
   "cell_type": "code",
   "execution_count": null,
   "id": "724d2ec1",
   "metadata": {},
   "outputs": [],
   "source": [
    "Result ->  1 {'c':3, 'b':2}\n",
    "\n",
    "Here we have used **kargs (keyworded argument) and all the values that fall under it are returned as a dictionary.\n",
    "Keyword Arguments need to be assigned a value during function call which works as key-value pairs. \n",
    "In above case any value assignment following 'a' will be assigned to the dictionary, like 'c' and 'b'"
   ]
  },
  {
   "cell_type": "markdown",
   "id": "90222871",
   "metadata": {},
   "source": [
    "# "
   ]
  },
  {
   "cell_type": "code",
   "execution_count": 5,
   "id": "d3f210bd",
   "metadata": {},
   "outputs": [
    {
     "name": "stdout",
     "output_type": "stream",
     "text": [
      "1 5 6 5\n"
     ]
    }
   ],
   "source": [
    "# Q5. What gets printed by this, and explain?\n",
    "\n",
    "def func(a, b, c=8, d=5): \n",
    "    print(a, b, c, d)\n",
    "func(1, *(5, 6))"
   ]
  },
  {
   "cell_type": "code",
   "execution_count": null,
   "id": "cc7e43ea",
   "metadata": {},
   "outputs": [],
   "source": [
    "Result -> 1 5 6 5\n",
    "\n",
    "In above case, 'a' is printed as normal.\n",
    "'b' and 'c' took the values assigned within the Non-Keyword Argument tuple passed in func()\n",
    "Since there are only two values in that tuple so they get assigned to 'b' and 'c' only. If there would be third one then it gets\n",
    "assigned to 'd'. But since that's not the case here so 'd' carry forward it's value."
   ]
  },
  {
   "cell_type": "markdown",
   "id": "3e17da4d",
   "metadata": {},
   "source": [
    "# "
   ]
  },
  {
   "cell_type": "code",
   "execution_count": 9,
   "id": "c459f43b",
   "metadata": {},
   "outputs": [
    {
     "data": {
      "text/plain": [
       "(1, ['x'], {'a': 'y'})"
      ]
     },
     "execution_count": 9,
     "metadata": {},
     "output_type": "execute_result"
    }
   ],
   "source": [
    "# Q6. what is the result of this, and explain?\n",
    "\n",
    "def func(a, b, c): \n",
    "    a = 2; b[0] = 'x'; c['a'] = 'y'\n",
    "    \n",
    "l=1; m=[1]; n={'a':0}\n",
    "func(l, m, n)\n",
    "\n",
    "l,m,n"
   ]
  },
  {
   "cell_type": "code",
   "execution_count": null,
   "id": "4dc39499",
   "metadata": {},
   "outputs": [],
   "source": [
    "Result -> (1, ['x'], {'a':'y'})\n",
    "\n",
    "We have passed three types of arguments here ... int, list and dictionary. \n",
    "'a' and 'l'  works as integer. Integers are immutable so l carried it's value.\n",
    "'b' and 'm' are lists, list is mutable so 'm' took the value of 'b' list.\n",
    "'c' and 'n' are dict. Dictionaries are mutable, 'n' took the value of 'c' "
   ]
  }
 ],
 "metadata": {
  "kernelspec": {
   "display_name": "Python 3 (ipykernel)",
   "language": "python",
   "name": "python3"
  },
  "language_info": {
   "codemirror_mode": {
    "name": "ipython",
    "version": 3
   },
   "file_extension": ".py",
   "mimetype": "text/x-python",
   "name": "python",
   "nbconvert_exporter": "python",
   "pygments_lexer": "ipython3",
   "version": "3.9.12"
  }
 },
 "nbformat": 4,
 "nbformat_minor": 5
}
