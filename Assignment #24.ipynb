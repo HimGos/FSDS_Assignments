{
 "cells": [
  {
   "cell_type": "markdown",
   "id": "577a4b79",
   "metadata": {},
   "source": [
    "### Q1. What is the relationship between def statements and lambda expressions ?"
   ]
  },
  {
   "cell_type": "code",
   "execution_count": null,
   "id": "458bdd73",
   "metadata": {},
   "outputs": [],
   "source": [
    "Both are used in defining functions.\n",
    "def is used for defining normal functions, while lambda is used to define an anonymous function."
   ]
  },
  {
   "cell_type": "markdown",
   "id": "4a70922c",
   "metadata": {},
   "source": [
    "# "
   ]
  },
  {
   "cell_type": "markdown",
   "id": "dc9f9f56",
   "metadata": {},
   "source": [
    "### Q2. What is the benefit of lambda?"
   ]
  },
  {
   "cell_type": "code",
   "execution_count": null,
   "id": "dceb5f4d",
   "metadata": {},
   "outputs": [],
   "source": [
    "Using lambda one can write a function in a single line without even writing return statement.\n",
    "If we haven't defined a function earlier and need to use a function within some other function, then lambda makes it easy\n",
    "for us to define a function within a single line right away."
   ]
  },
  {
   "cell_type": "markdown",
   "id": "a2943cc8",
   "metadata": {},
   "source": [
    "# "
   ]
  },
  {
   "cell_type": "markdown",
   "id": "1fc23098",
   "metadata": {},
   "source": [
    "### Q3. Compare and contrast map, filter, and reduce."
   ]
  },
  {
   "cell_type": "code",
   "execution_count": null,
   "id": "5f7c5ff1",
   "metadata": {},
   "outputs": [],
   "source": [
    "All these functions are called with lambda function or any predefined function and an iterable.\n",
    "map function modifies the items of the list.\n",
    "filter function filters out the list for which function returns True.\n",
    "reduce function performs repetitive operation on pairs of iterables. It takes two variables at a time."
   ]
  },
  {
   "cell_type": "markdown",
   "id": "84c855c4",
   "metadata": {},
   "source": [
    "# "
   ]
  },
  {
   "cell_type": "markdown",
   "id": "a561b419",
   "metadata": {},
   "source": [
    "### Q4. What are function annotations, and how are they used?"
   ]
  },
  {
   "cell_type": "code",
   "execution_count": null,
   "id": "8bc0c13d",
   "metadata": {},
   "outputs": [],
   "source": [
    "In function annotations we can annotate arguments and the return value that means we specify data type of the argument\n",
    "function will take as well as we pre-define the return type as well using this syntax....\n",
    "\n",
    "def func(arg: type_of_arg) -> type_of_return:\n",
    "    ...body..."
   ]
  },
  {
   "cell_type": "markdown",
   "id": "da6d3209",
   "metadata": {},
   "source": [
    "# "
   ]
  },
  {
   "cell_type": "markdown",
   "id": "bf15c5d4",
   "metadata": {},
   "source": [
    "### Q5. What are recursive functions, and how are they used?"
   ]
  },
  {
   "cell_type": "code",
   "execution_count": null,
   "id": "a3a87e83",
   "metadata": {},
   "outputs": [],
   "source": [
    "Recursive functions are same function within that function. If condition isn't placed then it will cause program to crash\n",
    "due to infinite callings of value. \n",
    "it's easy to use this function... Let's say we create a power function using recursion."
   ]
  },
  {
   "cell_type": "code",
   "execution_count": 1,
   "id": "2b393481",
   "metadata": {},
   "outputs": [
    {
     "name": "stdout",
     "output_type": "stream",
     "text": [
      "16\n"
     ]
    }
   ],
   "source": [
    "def fun(x):\n",
    "    if x == 1:\n",
    "        return 1\n",
    "    else :\n",
    "        return 2 * fun(x-1)\n",
    "\n",
    "print(fun(5))\n",
    "\n",
    "# 2**4"
   ]
  },
  {
   "cell_type": "markdown",
   "id": "84baad0c",
   "metadata": {},
   "source": [
    "# "
   ]
  },
  {
   "cell_type": "markdown",
   "id": "8e38a1f4",
   "metadata": {},
   "source": [
    "### Q6. What are some general design guidelines for coding functions?"
   ]
  },
  {
   "cell_type": "code",
   "execution_count": null,
   "id": "f2c72017",
   "metadata": {},
   "outputs": [],
   "source": [
    "1. Use proper indentation\n",
    "2. Write docstring right on top of the function suite.\n",
    "3. functions and arguments name should be proper i.e. def factorial_func() ... use _  as gap and write proper function work.\n",
    "4. When function suite ends... give 2 spaces before any other line of code."
   ]
  },
  {
   "cell_type": "markdown",
   "id": "7575ba4f",
   "metadata": {},
   "source": [
    "# "
   ]
  },
  {
   "cell_type": "markdown",
   "id": "f696ce7c",
   "metadata": {},
   "source": [
    "### Q7. Name three or more ways that functions can communicate results to a caller."
   ]
  },
  {
   "cell_type": "code",
   "execution_count": null,
   "id": "be9b99b2",
   "metadata": {},
   "outputs": [],
   "source": [
    "print() , return and yield statements makes a function give result easily to the caller.\n",
    "\n",
    "When we use print() we just need to call function and value gets printed automatically.\n",
    "In case of return and yeild, we assign an object and then use other function like print(), next() to get value."
   ]
  }
 ],
 "metadata": {
  "kernelspec": {
   "display_name": "Python 3 (ipykernel)",
   "language": "python",
   "name": "python3"
  },
  "language_info": {
   "codemirror_mode": {
    "name": "ipython",
    "version": 3
   },
   "file_extension": ".py",
   "mimetype": "text/x-python",
   "name": "python",
   "nbconvert_exporter": "python",
   "pygments_lexer": "ipython3",
   "version": "3.9.12"
  }
 },
 "nbformat": 4,
 "nbformat_minor": 5
}
