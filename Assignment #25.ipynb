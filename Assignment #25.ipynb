{
 "cells": [
  {
   "cell_type": "markdown",
   "id": "430f7f5c",
   "metadata": {},
   "source": [
    "### Q1. What is the difference between enclosing a list comprehension in square brackets and parentheses?"
   ]
  },
  {
   "cell_type": "code",
   "execution_count": null,
   "id": "7ed5d295",
   "metadata": {},
   "outputs": [],
   "source": [
    "[] makes it a list\n",
    "() makes it a generator"
   ]
  },
  {
   "cell_type": "markdown",
   "id": "6bf93a38",
   "metadata": {},
   "source": [
    "# "
   ]
  },
  {
   "cell_type": "markdown",
   "id": "91c53dfb",
   "metadata": {},
   "source": [
    "### Q2. What is the relationship between generators and iterators?"
   ]
  },
  {
   "cell_type": "code",
   "execution_count": null,
   "id": "ce2a373f",
   "metadata": {},
   "outputs": [],
   "source": [
    "Generator allows us to fetch value from iterator object one by one using loops, rather than one single value.\n",
    "We use yield statement to make it happen."
   ]
  },
  {
   "cell_type": "markdown",
   "id": "a1b22ed5",
   "metadata": {},
   "source": [
    "# "
   ]
  },
  {
   "cell_type": "markdown",
   "id": "16e10a30",
   "metadata": {},
   "source": [
    "### Q3. What are the signs that a function is a generator function?"
   ]
  },
  {
   "cell_type": "code",
   "execution_count": null,
   "id": "56c61dd2",
   "metadata": {},
   "outputs": [],
   "source": [
    "A generator function always uses yield statement due to which generator function will never return a single value. \n",
    "It will return an iterator object with a sequence of values."
   ]
  },
  {
   "cell_type": "markdown",
   "id": "4d5ca6a6",
   "metadata": {},
   "source": [
    "# "
   ]
  },
  {
   "cell_type": "markdown",
   "id": "dd0dd684",
   "metadata": {},
   "source": [
    "### Q4. What is the purpose of a yield statement?"
   ]
  },
  {
   "cell_type": "code",
   "execution_count": null,
   "id": "7168589f",
   "metadata": {},
   "outputs": [],
   "source": [
    "Yield statement allows us to return value from iterator object one by one. Whenever it fetches one value, it pauses \n",
    "it's state there and when called again, it resumes its state.\n",
    "Yield statement is responsible for making a function a generator function."
   ]
  },
  {
   "cell_type": "markdown",
   "id": "35ee8f9b",
   "metadata": {},
   "source": [
    "# "
   ]
  },
  {
   "cell_type": "markdown",
   "id": "5d402038",
   "metadata": {},
   "source": [
    "### Q5. What is the relationship between map calls and list comprehensions? Make a comparison and contrast between the two."
   ]
  },
  {
   "cell_type": "code",
   "execution_count": null,
   "id": "fa3c8878",
   "metadata": {},
   "outputs": [],
   "source": [
    "Map and list comprehension are ways through which we can perform a certain task in a single line of code. \n",
    "Both of them require an iterable to perform operations on its elements.\n",
    "\n",
    "List comprehension allows us perform task using conditions, while map doesn't allow us to put conditions unless there\n",
    "is a condition in predefined function it's calling.\n",
    "List comprehension is useful only when we need a list in return. Whereas map return map object to us."
   ]
  }
 ],
 "metadata": {
  "kernelspec": {
   "display_name": "Python 3 (ipykernel)",
   "language": "python",
   "name": "python3"
  },
  "language_info": {
   "codemirror_mode": {
    "name": "ipython",
    "version": 3
   },
   "file_extension": ".py",
   "mimetype": "text/x-python",
   "name": "python",
   "nbconvert_exporter": "python",
   "pygments_lexer": "ipython3",
   "version": "3.9.12"
  }
 },
 "nbformat": 4,
 "nbformat_minor": 5
}
