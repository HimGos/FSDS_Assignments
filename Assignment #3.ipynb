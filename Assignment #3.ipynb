{
 "cells": [
  {
   "cell_type": "code",
   "execution_count": 1,
   "id": "bad36814",
   "metadata": {},
   "outputs": [],
   "source": [
    "# Q1. Why are functions advantageous to have in your programs?"
   ]
  },
  {
   "cell_type": "code",
   "execution_count": null,
   "id": "57a83118",
   "metadata": {},
   "outputs": [],
   "source": [
    "Functions are re-usable, we don't need to write code again and again for same kind of operation.\n",
    "Let say in my program at 5 places, I wanted to perform a specific task, so either I can write long code 5 time or simply \n",
    "define a function once and call it as much time."
   ]
  },
  {
   "cell_type": "code",
   "execution_count": 2,
   "id": "ea835808",
   "metadata": {},
   "outputs": [],
   "source": [
    "# Q2. When does the code in a function run: when it's specified or when it's called?"
   ]
  },
  {
   "cell_type": "code",
   "execution_count": null,
   "id": "74e7f07e",
   "metadata": {},
   "outputs": [],
   "source": [
    "Called"
   ]
  },
  {
   "cell_type": "code",
   "execution_count": 3,
   "id": "c820f1ba",
   "metadata": {},
   "outputs": [],
   "source": [
    "# Q3. What statement creates a function?"
   ]
  },
  {
   "cell_type": "code",
   "execution_count": null,
   "id": "b4af4be1",
   "metadata": {},
   "outputs": [],
   "source": [
    "def fun():\n",
    "    #Suite of a function"
   ]
  },
  {
   "cell_type": "code",
   "execution_count": 4,
   "id": "a1d91d3f",
   "metadata": {},
   "outputs": [],
   "source": [
    "# Q4. What is the difference between a function and a function call?"
   ]
  },
  {
   "cell_type": "code",
   "execution_count": null,
   "id": "036491c8",
   "metadata": {},
   "outputs": [],
   "source": [
    "Let say we create a function to solve an problem- \n",
    "def fun():\n",
    "\n",
    "Now to actually solve a problem, I need to call this function by writing -\n",
    "fun() \n",
    "\n",
    "There are hundreds of builtin functions and infinite others one can build to solve a task but a function needs to be called\n",
    "to make use of that particular function."
   ]
  },
  {
   "cell_type": "code",
   "execution_count": 5,
   "id": "a0ae19ca",
   "metadata": {},
   "outputs": [],
   "source": [
    "# Q5. How many global scopes are there in a Python program? How many local scopes?"
   ]
  },
  {
   "cell_type": "code",
   "execution_count": null,
   "id": "23886d19",
   "metadata": {},
   "outputs": [],
   "source": [
    "There can only be one Global scope in a module. There can be many local scopes, their exact number vary as per the functions\n",
    "we create and use within a program."
   ]
  },
  {
   "cell_type": "code",
   "execution_count": 6,
   "id": "fc13ac97",
   "metadata": {},
   "outputs": [],
   "source": [
    "# Q6. What happens to variables in a local scope when the function call returns?"
   ]
  },
  {
   "cell_type": "code",
   "execution_count": null,
   "id": "13d452f5",
   "metadata": {},
   "outputs": [],
   "source": [
    "Whenever we call a function, all of it's local variables which are in local scope of a function gets called too and perform \n",
    "the defined task."
   ]
  },
  {
   "cell_type": "code",
   "execution_count": 7,
   "id": "39008bad",
   "metadata": {},
   "outputs": [],
   "source": [
    "# Q7. What is the concept of a return value? Is it possible to have a return value in an expression?"
   ]
  },
  {
   "cell_type": "code",
   "execution_count": null,
   "id": "b1cef5db",
   "metadata": {},
   "outputs": [],
   "source": [
    "Return statement is used to end the function under execution and returns the value to the caller.\n",
    "We do can write - \n",
    "def add1(a,b):\n",
    "    return a+b \n",
    "\n",
    "So yes we can write it along with an expression."
   ]
  },
  {
   "cell_type": "code",
   "execution_count": 8,
   "id": "d67e491c",
   "metadata": {},
   "outputs": [],
   "source": [
    "# Q8. If a function does not have a return statement, what is the return value of a call to that function?"
   ]
  },
  {
   "cell_type": "code",
   "execution_count": null,
   "id": "31e08015",
   "metadata": {},
   "outputs": [],
   "source": [
    "In absense of return statement, we will not get any output from the function.\n",
    "Eg. \n",
    "\n",
    "def add1(a,b):\n",
    "   a+b\n",
    "add1(3,4)\n",
    "\n",
    "It won't give any output"
   ]
  },
  {
   "cell_type": "code",
   "execution_count": 9,
   "id": "3020b94f",
   "metadata": {},
   "outputs": [],
   "source": [
    "# Q9. How do you make a function variable refer to the global variable?"
   ]
  },
  {
   "cell_type": "code",
   "execution_count": null,
   "id": "225c95f1",
   "metadata": {},
   "outputs": [],
   "source": [
    "We can use keyword like global which can refer to global variable within the function."
   ]
  },
  {
   "cell_type": "code",
   "execution_count": 10,
   "id": "4c8d518d",
   "metadata": {},
   "outputs": [],
   "source": [
    "# Q10. What is the data type of None?"
   ]
  },
  {
   "cell_type": "code",
   "execution_count": null,
   "id": "b5125a01",
   "metadata": {},
   "outputs": [],
   "source": [
    "NoneType"
   ]
  },
  {
   "cell_type": "code",
   "execution_count": 11,
   "id": "8fd0e9c2",
   "metadata": {},
   "outputs": [],
   "source": [
    "# Q11. What does the sentence import areallyourpetsnamederic do?"
   ]
  },
  {
   "cell_type": "code",
   "execution_count": null,
   "id": "24064285",
   "metadata": {},
   "outputs": [],
   "source": [
    "Gives error as there is no such module"
   ]
  },
  {
   "cell_type": "code",
   "execution_count": 12,
   "id": "50aa6243",
   "metadata": {},
   "outputs": [],
   "source": [
    "# Q12. If you had a bacon() feature in a spam module, what would you call it after importing spam?"
   ]
  },
  {
   "cell_type": "code",
   "execution_count": null,
   "id": "f7b2cffc",
   "metadata": {},
   "outputs": [],
   "source": [
    "Not sure about bacon() FEATURE but if its a bacon() FUNCTION then we can call it this way - \n",
    "\n",
    "import spam\n",
    "spam.bacon()"
   ]
  },
  {
   "cell_type": "code",
   "execution_count": 13,
   "id": "160fdf61",
   "metadata": {},
   "outputs": [],
   "source": [
    "# Q13. What can you do to save a programme from crashing if it encounters an error?"
   ]
  },
  {
   "cell_type": "code",
   "execution_count": null,
   "id": "70b4c3c2",
   "metadata": {},
   "outputs": [],
   "source": [
    "We can use Exception handling methods.\n",
    "Where we put first set of code in try block.\n",
    "Then we put exceptions or errors within except blocks."
   ]
  },
  {
   "cell_type": "code",
   "execution_count": 14,
   "id": "7a979575",
   "metadata": {},
   "outputs": [],
   "source": [
    "# Q14. What is the purpose of the try clause? What is the purpose of the except clause?"
   ]
  },
  {
   "cell_type": "code",
   "execution_count": null,
   "id": "0f345467",
   "metadata": {},
   "outputs": [],
   "source": [
    "try & except clauses are part of exception handling.\n",
    "Where we put first set of code in try block.\n",
    "Then we put exceptions or errors within except blocks.\n",
    "\n",
    "When we execute program, first it implements code in try block, if everything is good then it skips all except blocks.\n",
    "In case of any or expected error, then it falls in relevant except block and shows either error or perform specified task."
   ]
  }
 ],
 "metadata": {
  "kernelspec": {
   "display_name": "Python 3 (ipykernel)",
   "language": "python",
   "name": "python3"
  },
  "language_info": {
   "codemirror_mode": {
    "name": "ipython",
    "version": 3
   },
   "file_extension": ".py",
   "mimetype": "text/x-python",
   "name": "python",
   "nbconvert_exporter": "python",
   "pygments_lexer": "ipython3",
   "version": "3.9.12"
  }
 },
 "nbformat": 4,
 "nbformat_minor": 5
}
