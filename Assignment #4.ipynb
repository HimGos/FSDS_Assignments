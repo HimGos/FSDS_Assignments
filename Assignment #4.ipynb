{
 "cells": [
  {
   "cell_type": "code",
   "execution_count": 1,
   "id": "db562e3c",
   "metadata": {},
   "outputs": [],
   "source": [
    "# Q1. What exactly is []?"
   ]
  },
  {
   "cell_type": "code",
   "execution_count": null,
   "id": "ea8f29c7",
   "metadata": {},
   "outputs": [],
   "source": [
    "Square brackets represents list."
   ]
  },
  {
   "cell_type": "code",
   "execution_count": 2,
   "id": "c9ec7133",
   "metadata": {},
   "outputs": [],
   "source": [
    "# Q2. In a list of values stored in a variable called spam, how would you assign the value 'hello' as the\n",
    "#     third value? (Assume [2, 4, 6, 8, 10] are in spam.)"
   ]
  },
  {
   "cell_type": "code",
   "execution_count": 3,
   "id": "1ccd968b",
   "metadata": {},
   "outputs": [
    {
     "data": {
      "text/plain": [
       "[2, 4, 'hello', 8, 10]"
      ]
     },
     "execution_count": 3,
     "metadata": {},
     "output_type": "execute_result"
    }
   ],
   "source": [
    "spam = [2,4,6,8,10]\n",
    "spam[2] = 'hello'\n",
    "spam"
   ]
  },
  {
   "cell_type": "code",
   "execution_count": 4,
   "id": "f27a42c0",
   "metadata": {},
   "outputs": [],
   "source": [
    "# Let's pretend the spam includes the list ['a', 'b', 'c', 'd'] for the next three queries."
   ]
  },
  {
   "cell_type": "code",
   "execution_count": 5,
   "id": "ac4730a1",
   "metadata": {},
   "outputs": [],
   "source": [
    "# Q3. What is the value of spam[int(int('3' * 2) / 11)]?"
   ]
  },
  {
   "cell_type": "code",
   "execution_count": null,
   "id": "2c15581c",
   "metadata": {},
   "outputs": [],
   "source": [
    "spam[int(int('33')/11)]\n",
    "spam[int(33/11)]\n",
    "spam[3]\n",
    "'d'"
   ]
  },
  {
   "cell_type": "code",
   "execution_count": 6,
   "id": "1ca2383b",
   "metadata": {},
   "outputs": [],
   "source": [
    "# Q4. What is the value of spam[-1]?"
   ]
  },
  {
   "cell_type": "code",
   "execution_count": null,
   "id": "6a4e320c",
   "metadata": {},
   "outputs": [],
   "source": [
    "'d'"
   ]
  },
  {
   "cell_type": "code",
   "execution_count": 7,
   "id": "f4b37773",
   "metadata": {},
   "outputs": [],
   "source": [
    "# Q5. What is the value of spam[:2]?"
   ]
  },
  {
   "cell_type": "code",
   "execution_count": null,
   "id": "1575cb2e",
   "metadata": {},
   "outputs": [],
   "source": [
    "['a','b']"
   ]
  },
  {
   "cell_type": "code",
   "execution_count": 8,
   "id": "c7897c0b",
   "metadata": {},
   "outputs": [],
   "source": [
    "# Let's pretend bacon has the list [3.14, 'cat', 11, 'cat', True] for the next three questions."
   ]
  },
  {
   "cell_type": "code",
   "execution_count": 9,
   "id": "bd29ad6d",
   "metadata": {},
   "outputs": [],
   "source": [
    "# Q6. What is the value of bacon.index('cat')?"
   ]
  },
  {
   "cell_type": "code",
   "execution_count": null,
   "id": "ee455729",
   "metadata": {},
   "outputs": [],
   "source": [
    "bacon = [3.14, 'cat', 11, 'cat', True]"
   ]
  },
  {
   "cell_type": "code",
   "execution_count": null,
   "id": "ac183d99",
   "metadata": {},
   "outputs": [],
   "source": [
    "bacon.index('cat') ---> 1"
   ]
  },
  {
   "cell_type": "code",
   "execution_count": 10,
   "id": "490904b0",
   "metadata": {},
   "outputs": [],
   "source": [
    "# Q7. How does bacon.append(99) change the look of the list value in bacon?"
   ]
  },
  {
   "cell_type": "code",
   "execution_count": null,
   "id": "bc84fa86",
   "metadata": {},
   "outputs": [],
   "source": [
    "bacon = [3.14, 'cat', 11, 'cat', True, 99]"
   ]
  },
  {
   "cell_type": "code",
   "execution_count": 11,
   "id": "f8f5bfe5",
   "metadata": {},
   "outputs": [],
   "source": [
    "# Q8. How does bacon.remove('cat') change the look of the list in bacon?"
   ]
  },
  {
   "cell_type": "code",
   "execution_count": null,
   "id": "2912c477",
   "metadata": {},
   "outputs": [],
   "source": [
    "bacon = [3.14, 11, 'cat', True, 99]"
   ]
  },
  {
   "cell_type": "code",
   "execution_count": 12,
   "id": "809e4edc",
   "metadata": {},
   "outputs": [],
   "source": [
    "# Q9. What are the list concatenation and list replication operators?"
   ]
  },
  {
   "cell_type": "code",
   "execution_count": null,
   "id": "1f392b1c",
   "metadata": {},
   "outputs": [],
   "source": [
    "To concatenate we use -> + operator\n",
    "To replicate we use   -> * operator"
   ]
  },
  {
   "cell_type": "code",
   "execution_count": 13,
   "id": "baed6f89",
   "metadata": {},
   "outputs": [],
   "source": [
    "# Q10. What is difference between the list methods append() and insert()?"
   ]
  },
  {
   "cell_type": "code",
   "execution_count": null,
   "id": "447c01c7",
   "metadata": {},
   "outputs": [],
   "source": [
    "append() method adds a value at the end of the list. append() only takes one parameter.\n",
    "insert() method adds a value at a particular place which we assign. insert() takes two parameters."
   ]
  },
  {
   "cell_type": "code",
   "execution_count": 14,
   "id": "2f9390f4",
   "metadata": {},
   "outputs": [],
   "source": [
    "# Q11. What are the two methods for removing items from a list?"
   ]
  },
  {
   "cell_type": "code",
   "execution_count": null,
   "id": "57d505e2",
   "metadata": {},
   "outputs": [],
   "source": [
    "remove() & pop() are used to remove item from list"
   ]
  },
  {
   "cell_type": "code",
   "execution_count": 15,
   "id": "fe5ff783",
   "metadata": {},
   "outputs": [],
   "source": [
    "# Q12. Describe how list values and string values are identical."
   ]
  },
  {
   "cell_type": "code",
   "execution_count": null,
   "id": "1aeba410",
   "metadata": {},
   "outputs": [],
   "source": [
    "List values and string values are identical as we can perform slicing operation on both of them and both are iterable."
   ]
  },
  {
   "cell_type": "code",
   "execution_count": 16,
   "id": "7ba6b0c8",
   "metadata": {},
   "outputs": [],
   "source": [
    "# Q13. What's the difference between tuples and lists?"
   ]
  },
  {
   "cell_type": "code",
   "execution_count": null,
   "id": "c9308e17",
   "metadata": {},
   "outputs": [],
   "source": [
    "Tuples are represented with () while list is represented with [].\n",
    "Tuples are Immutable i.e. we can't manipulate them once value is assigned on a particular index.\n",
    "List is mutable i.e. we can manipulate the values on any index."
   ]
  },
  {
   "cell_type": "code",
   "execution_count": 17,
   "id": "88ebd888",
   "metadata": {},
   "outputs": [],
   "source": [
    "# Q14. How do you type a tuple value that only contains the integer 42?"
   ]
  },
  {
   "cell_type": "code",
   "execution_count": null,
   "id": "df9eb497",
   "metadata": {},
   "outputs": [],
   "source": [
    "t = (42)"
   ]
  },
  {
   "cell_type": "code",
   "execution_count": 18,
   "id": "f2fe8c53",
   "metadata": {},
   "outputs": [],
   "source": [
    "# Q15. How do you get a list value's tuple form? How do you get a tuple value's list form?"
   ]
  },
  {
   "cell_type": "code",
   "execution_count": null,
   "id": "ea6c5c01",
   "metadata": {},
   "outputs": [],
   "source": [
    "We use Type Casting method.\n",
    "List to tuple ->  tuple(lst)\n",
    "Tuple to List -> list(tup)"
   ]
  },
  {
   "cell_type": "code",
   "execution_count": 19,
   "id": "65a5221e",
   "metadata": {},
   "outputs": [],
   "source": [
    "# Q16. Variables that 'contain' list values are not necessarily lists themselves. Instead, what do they contain?"
   ]
  },
  {
   "cell_type": "code",
   "execution_count": null,
   "id": "5dc1972e",
   "metadata": {},
   "outputs": [],
   "source": [
    "All the values are just taking a space in memory, we can change the type of list and then we may find all values within a tuple.\n",
    "That means all the values within a list or tuple hold their own datatype, own address."
   ]
  },
  {
   "cell_type": "code",
   "execution_count": 20,
   "id": "56f0be48",
   "metadata": {},
   "outputs": [],
   "source": [
    "# Q17. How do you distinguish between copy.copy() and copy.deepcopy()?"
   ]
  },
  {
   "cell_type": "code",
   "execution_count": null,
   "id": "0acfbbbe",
   "metadata": {},
   "outputs": [],
   "source": [
    "copy.copy() is also refered as shallow copy which means if we have 2 lists, say A and B. We perform copy.copy() on B list from\n",
    "A list. Now both lists hold same value. Whenever we change value in B, then same value will be changed in A.\n",
    "\n",
    "copy.deepcopy() on the other hand is known as deep copy. From above example, if we had performed deep copy in list B.\n",
    "Then if we change any value in list B, it won't be reflected or impact list A."
   ]
  },
  {
   "cell_type": "code",
   "execution_count": null,
   "id": "022f3e97",
   "metadata": {},
   "outputs": [],
   "source": []
  },
  {
   "cell_type": "code",
   "execution_count": null,
   "id": "186eec41",
   "metadata": {},
   "outputs": [],
   "source": [
    "\"\"\"\n",
    "\n",
    "Thank You :)\n",
    "\n",
    "\"\"\""
   ]
  }
 ],
 "metadata": {
  "kernelspec": {
   "display_name": "Python 3 (ipykernel)",
   "language": "python",
   "name": "python3"
  },
  "language_info": {
   "codemirror_mode": {
    "name": "ipython",
    "version": 3
   },
   "file_extension": ".py",
   "mimetype": "text/x-python",
   "name": "python",
   "nbconvert_exporter": "python",
   "pygments_lexer": "ipython3",
   "version": "3.9.12"
  }
 },
 "nbformat": 4,
 "nbformat_minor": 5
}
