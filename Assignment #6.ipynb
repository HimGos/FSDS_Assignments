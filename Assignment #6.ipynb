{
 "cells": [
  {
   "cell_type": "code",
   "execution_count": 1,
   "id": "fdcd268c",
   "metadata": {},
   "outputs": [],
   "source": [
    "# Q1. What are escape characters, and how do you use them?"
   ]
  },
  {
   "cell_type": "code",
   "execution_count": null,
   "id": "ae5b2376",
   "metadata": {},
   "outputs": [],
   "source": [
    "In a string, we often use words which are considered illegal, like let say I write - \" I am ineuron's \"data\" scientist\" , \n",
    "Here \"data\" can be considered as illegal, it's altering the state of string. \n",
    "In such cases we use escape characters like backslash ' \\\" ' to fix our string.\n",
    "There are many other escape characters like \\n , \\t , \\r which have their own roles within string. \n",
    "We use escape characters by writing backslash first."
   ]
  },
  {
   "cell_type": "code",
   "execution_count": 2,
   "id": "b96c16f5",
   "metadata": {},
   "outputs": [],
   "source": [
    "# Q2. What do the escape characters n and t stand for?"
   ]
  },
  {
   "cell_type": "code",
   "execution_count": null,
   "id": "bdc4d61f",
   "metadata": {},
   "outputs": [],
   "source": [
    "\\n stands for New Line   ( Shifts string to new line)\n",
    "\\t stands for Tab        ( Gives space equal to one tab)"
   ]
  },
  {
   "cell_type": "code",
   "execution_count": 3,
   "id": "65b8cf99",
   "metadata": {},
   "outputs": [],
   "source": [
    "# Q3. What is the way to include backslash characters in a string?"
   ]
  },
  {
   "cell_type": "code",
   "execution_count": null,
   "id": "2d2d24e7",
   "metadata": {},
   "outputs": [],
   "source": [
    "We use backslash characters within a string using ' ' or \" \".\n",
    "For example using '\\n', - \" This is my assignment #6 \\nSo far I am enjoying it.\"\n",
    "It will be printed as -\n",
    "This is my assignment #6\n",
    "So far I am enjoying it"
   ]
  },
  {
   "cell_type": "code",
   "execution_count": 4,
   "id": "60a31e1d",
   "metadata": {},
   "outputs": [],
   "source": [
    "# Q4. The string \"Howl's Moving Castle\" is a correct value. Why isn't the single quote character in the\n",
    "#     word Howl's not escaped a problem?"
   ]
  },
  {
   "cell_type": "code",
   "execution_count": null,
   "id": "25fe88bf",
   "metadata": {},
   "outputs": [],
   "source": [
    "Because having single quote within double quoted string doesn't escape the string. If whole string was in single quote then\n",
    "it would have escaped."
   ]
  },
  {
   "cell_type": "code",
   "execution_count": 5,
   "id": "b70a0948",
   "metadata": {},
   "outputs": [],
   "source": [
    "# Q5. How do you write a string of newlines if you don't want to use the n character?"
   ]
  },
  {
   "cell_type": "code",
   "execution_count": null,
   "id": "2c99a765",
   "metadata": {},
   "outputs": [],
   "source": [
    "Writing a string in triple quote can make it happen. \n",
    "\"\"\"\n",
    "This is my assignment.\n",
    "I am enjoying it.\n",
    "\"\"\""
   ]
  },
  {
   "cell_type": "code",
   "execution_count": 6,
   "id": "40f88017",
   "metadata": {},
   "outputs": [],
   "source": [
    "# Q6. What are the values of the given expressions?\n",
    "# 'Hello, world!'[1]\n",
    "# 'Hello, world!'[0:5]\n",
    "# 'Hello, world!'[:5]\n",
    "# 'Hello, world!'[3:]"
   ]
  },
  {
   "cell_type": "code",
   "execution_count": null,
   "id": "7c4e32de",
   "metadata": {},
   "outputs": [],
   "source": [
    "'e'\n",
    "'Hello'\n",
    "'Hello'\n",
    "'lo, world!'"
   ]
  },
  {
   "cell_type": "code",
   "execution_count": 7,
   "id": "565c1f63",
   "metadata": {},
   "outputs": [],
   "source": [
    "# Q7. What are the values of the following expressions?\n",
    "# 'Hello'.upper()\n",
    "# 'Hello'.upper().isupper()\n",
    "# 'Hello'.upper().lower()"
   ]
  },
  {
   "cell_type": "code",
   "execution_count": null,
   "id": "f2683f82",
   "metadata": {},
   "outputs": [],
   "source": [
    "'HELLO'\n",
    "True\n",
    "'hello'"
   ]
  },
  {
   "cell_type": "code",
   "execution_count": 8,
   "id": "165c2bab",
   "metadata": {},
   "outputs": [],
   "source": [
    "# Q8. What are the values of the following expressions?\n",
    "# 'Remember, remember, the fifth of July.'.split()\n",
    "# '-'.join('There can only one.'.split())"
   ]
  },
  {
   "cell_type": "code",
   "execution_count": null,
   "id": "d77bcb19",
   "metadata": {},
   "outputs": [],
   "source": [
    "['Remember,','remember,','the','fifth','of','July']\n",
    "'There-can-only-one.'"
   ]
  },
  {
   "cell_type": "code",
   "execution_count": 9,
   "id": "241b1986",
   "metadata": {},
   "outputs": [],
   "source": [
    "# Q9. What are the methods for right-justifying, left-justifying, and centering a string?"
   ]
  },
  {
   "cell_type": "code",
   "execution_count": null,
   "id": "a671d0f8",
   "metadata": {},
   "outputs": [],
   "source": [
    "a = 'this is string for assignment'\n",
    "\n",
    "right-justifying -> a.rjust(width,'character or space')\n",
    "left-justifying  -> a.ljust(width,'character or space')\n",
    "centring         -> a.center(width,'character or space')"
   ]
  },
  {
   "cell_type": "code",
   "execution_count": 10,
   "id": "5bb0cb03",
   "metadata": {},
   "outputs": [],
   "source": [
    "# Q10. What is the best way to remove whitespace characters from the start or end?"
   ]
  },
  {
   "cell_type": "code",
   "execution_count": null,
   "id": "db3f18a0",
   "metadata": {},
   "outputs": [],
   "source": [
    "strip() method can make it happen.\n",
    "\n",
    "-> str.strip()"
   ]
  },
  {
   "cell_type": "code",
   "execution_count": null,
   "id": "ae6ad838",
   "metadata": {},
   "outputs": [],
   "source": []
  },
  {
   "cell_type": "code",
   "execution_count": null,
   "id": "0a39a3cd",
   "metadata": {},
   "outputs": [],
   "source": [
    "\"\"\"\n",
    "\n",
    "Thank You :)\n",
    "\n",
    "\"\"\""
   ]
  }
 ],
 "metadata": {
  "kernelspec": {
   "display_name": "Python 3 (ipykernel)",
   "language": "python",
   "name": "python3"
  },
  "language_info": {
   "codemirror_mode": {
    "name": "ipython",
    "version": 3
   },
   "file_extension": ".py",
   "mimetype": "text/x-python",
   "name": "python",
   "nbconvert_exporter": "python",
   "pygments_lexer": "ipython3",
   "version": "3.9.12"
  }
 },
 "nbformat": 4,
 "nbformat_minor": 5
}
