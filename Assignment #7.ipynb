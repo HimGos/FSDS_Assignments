{
 "cells": [
  {
   "cell_type": "code",
   "execution_count": 1,
   "id": "38a275dc",
   "metadata": {},
   "outputs": [],
   "source": [
    "# Q1. What is the name of the feature responsible for generating Regex objects?"
   ]
  },
  {
   "cell_type": "code",
   "execution_count": null,
   "id": "36910acc",
   "metadata": {},
   "outputs": [],
   "source": [
    "re.compile()"
   ]
  },
  {
   "cell_type": "code",
   "execution_count": 2,
   "id": "02d2a36e",
   "metadata": {},
   "outputs": [],
   "source": [
    "# Q2. Why do raw strings often appear in Regex objects?"
   ]
  },
  {
   "cell_type": "code",
   "execution_count": null,
   "id": "5920d5e0",
   "metadata": {},
   "outputs": [],
   "source": [
    "Raw string prevents a string from backlash. \n",
    "Backslash can make string escape."
   ]
  },
  {
   "cell_type": "code",
   "execution_count": 3,
   "id": "531ead93",
   "metadata": {},
   "outputs": [],
   "source": [
    "# Q3. What is the return value of the search() method?"
   ]
  },
  {
   "cell_type": "code",
   "execution_count": null,
   "id": "32e82291",
   "metadata": {},
   "outputs": [],
   "source": [
    "It returns re.Match object. "
   ]
  },
  {
   "cell_type": "code",
   "execution_count": 4,
   "id": "1038655f",
   "metadata": {},
   "outputs": [],
   "source": [
    "# Q4. From a Match item, how do you get the actual strings that match the pattern?"
   ]
  },
  {
   "cell_type": "code",
   "execution_count": null,
   "id": "326d0745",
   "metadata": {},
   "outputs": [],
   "source": [
    "We can use group() method to get the desired outcome from Match."
   ]
  },
  {
   "cell_type": "code",
   "execution_count": 5,
   "id": "4b63f531",
   "metadata": {},
   "outputs": [],
   "source": [
    "# Q5. In the regex which created from the r'(\\d\\d\\d)-(\\d\\d\\d-\\d\\d\\d\\d)', \n",
    "#     what does group zero cover? Group 2? Group 1?"
   ]
  },
  {
   "cell_type": "code",
   "execution_count": null,
   "id": "23c6f40a",
   "metadata": {},
   "outputs": [],
   "source": [
    "Let say the number we are trying to search is 121-212-121200\n",
    "Now when we say group zero using the above regex, we will get -> 121-212-1212\n",
    "Initial 10 numbers we got.\n",
    "Group 2 convers the 6 digits after first hyphen -\n",
    "Group 1 covers the first 3 digits. "
   ]
  },
  {
   "cell_type": "code",
   "execution_count": 6,
   "id": "f2b44180",
   "metadata": {},
   "outputs": [],
   "source": [
    "# Q6. In standard expression syntax, parentheses and intervals have distinct meanings. How can you tell\n",
    "#     a regex that you want it to fit real parentheses and periods?"
   ]
  },
  {
   "cell_type": "code",
   "execution_count": null,
   "id": "f3ef4148",
   "metadata": {},
   "outputs": [],
   "source": [
    "We can simply use backslash before paranthesis or intervals."
   ]
  },
  {
   "cell_type": "code",
   "execution_count": 7,
   "id": "44812baf",
   "metadata": {},
   "outputs": [],
   "source": [
    "# Q7. The findall() method returns a string list or a list of string tuples. \n",
    "#     What causes it to return one of the two options?"
   ]
  },
  {
   "cell_type": "code",
   "execution_count": null,
   "id": "291a511c",
   "metadata": {},
   "outputs": [],
   "source": [
    "It returns string list only if they aren't present in group, otherwise we get list of string tuples."
   ]
  },
  {
   "cell_type": "code",
   "execution_count": 8,
   "id": "2fc2cd33",
   "metadata": {},
   "outputs": [],
   "source": [
    "# Q8. In standard expressions, what does the | character mean?"
   ]
  },
  {
   "cell_type": "code",
   "execution_count": null,
   "id": "6cff440b",
   "metadata": {},
   "outputs": [],
   "source": [
    "It works as ' or ' operator. Checks if either one group is true."
   ]
  },
  {
   "cell_type": "code",
   "execution_count": 9,
   "id": "ced43cab",
   "metadata": {},
   "outputs": [],
   "source": [
    "# Q9. In regular expressions, what does the character stand for?"
   ]
  },
  {
   "cell_type": "code",
   "execution_count": null,
   "id": "09db4bc6",
   "metadata": {},
   "outputs": [],
   "source": [
    "Character plays special role in regex. They are also known as special sequence."
   ]
  },
  {
   "cell_type": "code",
   "execution_count": 10,
   "id": "fb3ff339",
   "metadata": {},
   "outputs": [],
   "source": [
    "# Q10. In regular expressions, what is the difference between the + and * characters?"
   ]
  },
  {
   "cell_type": "code",
   "execution_count": null,
   "id": "d7c9af22",
   "metadata": {},
   "outputs": [],
   "source": [
    "+ symbol matches one or more occurences of the pattern on it's left.\n",
    "* symbol matches zero or more occurences of the pattern on it's left."
   ]
  },
  {
   "cell_type": "code",
   "execution_count": 11,
   "id": "122d1725",
   "metadata": {},
   "outputs": [],
   "source": [
    "# Q11. What is the difference between {4} and {4,5} in regular expression?"
   ]
  },
  {
   "cell_type": "code",
   "execution_count": null,
   "id": "463f9260",
   "metadata": {},
   "outputs": [],
   "source": [
    "{4} matches 4 occurence of pattern we are looking, while {4,5} matches 4 to 5 occurences of the pattern.\n",
    "Eg. DsDsDsDs -> Ds{4}\n",
    "DsDsDsDs | DsDsDsDsDs  -> Ds{4,5}"
   ]
  },
  {
   "cell_type": "code",
   "execution_count": 12,
   "id": "f965dd70",
   "metadata": {},
   "outputs": [],
   "source": [
    "# Q12. What do you mean by the \\d, \\w, and \\s shorthand character classes signify in regular expressions?"
   ]
  },
  {
   "cell_type": "code",
   "execution_count": null,
   "id": "0b846413",
   "metadata": {},
   "outputs": [],
   "source": [
    "\\d matches a digit from 0-9\n",
    "\\w matches alphanumeric character including underscore.\n",
    "\\s matches any whitespace character"
   ]
  },
  {
   "cell_type": "code",
   "execution_count": 13,
   "id": "5b625286",
   "metadata": {},
   "outputs": [],
   "source": [
    "# Q13. What do means by \\D, \\W, and \\S shorthand character classes signify in regular expressions?"
   ]
  },
  {
   "cell_type": "code",
   "execution_count": null,
   "id": "358191d1",
   "metadata": {},
   "outputs": [],
   "source": [
    "\\D matches non-digit character\n",
    "\\W matches non alphanumeric & non-underscore character\n",
    "\\S matches non-whitespace character"
   ]
  },
  {
   "cell_type": "code",
   "execution_count": 14,
   "id": "d430c0e6",
   "metadata": {},
   "outputs": [],
   "source": [
    "# Q14. What is the difference between .*? and .*?"
   ]
  },
  {
   "cell_type": "code",
   "execution_count": null,
   "id": "b5ad3a88",
   "metadata": {},
   "outputs": [],
   "source": [
    ". matches any character \n",
    "* matches 0 or more occurences of patten on left. (greedy)\n",
    "? matches 0 or 1 occurence of pattern on left. (reluctant)\n",
    "\n",
    ".* being greedy, starts from character(s) on left of it and gives result till it matches the characters on right of it till the end of whole string.\n",
    ".*? being reluctant, starts from character(s) on it's left and give result till immediate next set of matched character(s) on righ side to it."
   ]
  },
  {
   "cell_type": "code",
   "execution_count": 15,
   "id": "bff27c13",
   "metadata": {},
   "outputs": [],
   "source": [
    "# Q15. What is the syntax for matching both numbers and lowercase letters with a character class?"
   ]
  },
  {
   "cell_type": "code",
   "execution_count": null,
   "id": "4b281418",
   "metadata": {},
   "outputs": [],
   "source": [
    "[0-9a-z]"
   ]
  },
  {
   "cell_type": "code",
   "execution_count": 16,
   "id": "20e5e58a",
   "metadata": {},
   "outputs": [],
   "source": [
    "# Q16. What is the procedure for making a normal expression in regax case insensitive?"
   ]
  },
  {
   "cell_type": "code",
   "execution_count": null,
   "id": "e3cc4d8d",
   "metadata": {},
   "outputs": [],
   "source": [
    "In re.compile() we can pass a flag i.e. pass re.IGNORECASE as second argument"
   ]
  },
  {
   "cell_type": "code",
   "execution_count": 17,
   "id": "dde135fb",
   "metadata": {},
   "outputs": [],
   "source": [
    "# Q17. What does the . character normally match? What does it match if re.DOTALL is passed as \n",
    "#      2nd argument in re.compile()?"
   ]
  },
  {
   "cell_type": "code",
   "execution_count": null,
   "id": "b91149ec",
   "metadata": {},
   "outputs": [],
   "source": [
    ". matches any character untill newline comes up.\n",
    "re.DOTALL works as flag in re.compile() and extends the use case of . even in newlines."
   ]
  },
  {
   "cell_type": "code",
   "execution_count": 18,
   "id": "106901ff",
   "metadata": {},
   "outputs": [],
   "source": [
    "# Q18. If numReg = re.compile(r'\\d+'), what will numRegex.sub('X', '11 drummers, 10 pipers, five rings, 4 hen') return?"
   ]
  },
  {
   "cell_type": "code",
   "execution_count": null,
   "id": "b3eae3e9",
   "metadata": {},
   "outputs": [],
   "source": [
    "Error. Because in numRegex.sub() , numRegex is not defined.\n",
    "However, if we consider it as numReg then output is -> X drummers, X pipers, five rings, X hen"
   ]
  },
  {
   "cell_type": "code",
   "execution_count": 19,
   "id": "02c84639",
   "metadata": {},
   "outputs": [],
   "source": [
    "# Q19. What does passing re.VERBOSE as the 2nd argument to re.compile() allow to do?"
   ]
  },
  {
   "cell_type": "code",
   "execution_count": null,
   "id": "4cbf7263",
   "metadata": {},
   "outputs": [],
   "source": [
    "By passing re.VERBOSE as flag, it allows us present string in better way, as it removes -\n",
    "'spaces' unless they are in some character class or escaped by backslash\n",
    "'#' unless they are in some character or escaped by backslash."
   ]
  },
  {
   "cell_type": "code",
   "execution_count": 20,
   "id": "fb13b7a3",
   "metadata": {},
   "outputs": [],
   "source": [
    "# Q20. How would you write a regex that match a number with comma for every three digits? It must\n",
    "#     match the given following:\n",
    "#  '42'\n",
    "#  '1,234'\n",
    "#  '6,368,745'\n",
    "\n",
    "#  but not the following:\n",
    "#  '12,34,567' (which has only two digit between comma)\n",
    "#  '1234' (which lacks comma)"
   ]
  },
  {
   "cell_type": "code",
   "execution_count": null,
   "id": "b1fc2497",
   "metadata": {},
   "outputs": [],
   "source": [
    "import re\n",
    "three = re.compile(r'\\d{1,3}(,\\d{3})*')\n",
    "num = three.search('the num is 42')\n",
    "print(num.group())"
   ]
  },
  {
   "cell_type": "code",
   "execution_count": 21,
   "id": "faae5338",
   "metadata": {},
   "outputs": [],
   "source": [
    "# Q21. How would you write a regex that matches the full name of someone whose last name is Watanabe? \n",
    "#      You can assume that the first name that comes before it will always be one word that\n",
    "#      begins with a capital letter."
   ]
  },
  {
   "cell_type": "code",
   "execution_count": null,
   "id": "bd8c4aa0",
   "metadata": {},
   "outputs": [],
   "source": [
    "re.compile(r'[A-Z][a-z]*\\sWatanabe')"
   ]
  },
  {
   "cell_type": "code",
   "execution_count": 22,
   "id": "42815714",
   "metadata": {},
   "outputs": [],
   "source": [
    "# Q22. How would you write a regex that matches a sentence where the first word is either Alice, Bob,\n",
    "#      or Carol; the second word is either eats, pets, or throws; the third word is apples, cats, or baseballs;\n",
    "#      and the sentence ends with a period? This regex should be case-insensitive."
   ]
  },
  {
   "cell_type": "code",
   "execution_count": null,
   "id": "1144b1e1",
   "metadata": {},
   "outputs": [],
   "source": [
    "cap = re.compile(r'(alice|bob|carol)\\s(eats|pets|throws)\\s(apples|cats|baseballs)\\.',re.IGNORECASE)\n",
    "nam = cap.search('BOB EATS CATS.')\n",
    "print(nam.group())"
   ]
  }
 ],
 "metadata": {
  "kernelspec": {
   "display_name": "Python 3 (ipykernel)",
   "language": "python",
   "name": "python3"
  },
  "language_info": {
   "codemirror_mode": {
    "name": "ipython",
    "version": 3
   },
   "file_extension": ".py",
   "mimetype": "text/x-python",
   "name": "python",
   "nbconvert_exporter": "python",
   "pygments_lexer": "ipython3",
   "version": "3.9.12"
  }
 },
 "nbformat": 4,
 "nbformat_minor": 5
}
