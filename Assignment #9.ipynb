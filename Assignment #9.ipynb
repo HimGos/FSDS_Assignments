{
 "cells": [
  {
   "cell_type": "code",
   "execution_count": 1,
   "id": "02258c71",
   "metadata": {},
   "outputs": [],
   "source": [
    "# Q1. To what does a relative path refer?"
   ]
  },
  {
   "cell_type": "code",
   "execution_count": null,
   "id": "d8ce4be2",
   "metadata": {},
   "outputs": [],
   "source": [
    "Relative path refers to the path of a file related to current working directory. \n",
    "Eg. ->"
   ]
  },
  {
   "cell_type": "code",
   "execution_count": 6,
   "id": "d38dabbc",
   "metadata": {},
   "outputs": [
    {
     "name": "stdout",
     "output_type": "stream",
     "text": [
      "C:\\Users\\Himz\\Assignments\\Assignment #9.ipynb\n"
     ]
    }
   ],
   "source": [
    "import os\n",
    "my_path = os.path.abspath(\"Assignment #9.ipynb\")\n",
    "print(my_path)"
   ]
  },
  {
   "cell_type": "code",
   "execution_count": null,
   "id": "8422460c",
   "metadata": {},
   "outputs": [],
   "source": [
    "So here my Relative path is -> '\\Assignments\\Assignment #9.ipynb'"
   ]
  },
  {
   "cell_type": "code",
   "execution_count": null,
   "id": "ab7f2c01",
   "metadata": {},
   "outputs": [],
   "source": []
  },
  {
   "cell_type": "code",
   "execution_count": 7,
   "id": "ff57ac99",
   "metadata": {},
   "outputs": [],
   "source": [
    "# Q2. What does an absolute path start with your operating system?"
   ]
  },
  {
   "cell_type": "code",
   "execution_count": null,
   "id": "4c3ebb21",
   "metadata": {},
   "outputs": [],
   "source": [
    "From above example, we can say absolute path starts with ROOT DIRECTORY."
   ]
  },
  {
   "cell_type": "code",
   "execution_count": null,
   "id": "6b9b8cd7",
   "metadata": {},
   "outputs": [],
   "source": []
  },
  {
   "cell_type": "code",
   "execution_count": 8,
   "id": "9b5c3c43",
   "metadata": {},
   "outputs": [],
   "source": [
    "# Q3. What do the functions os.getcwd() and os.chdir() do?"
   ]
  },
  {
   "cell_type": "code",
   "execution_count": null,
   "id": "2b270872",
   "metadata": {},
   "outputs": [],
   "source": [
    "os.getcwd() -> gets us the current working directory.\n",
    "os.chdir()  -> Allows us to change the current directory to specified path"
   ]
  },
  {
   "cell_type": "code",
   "execution_count": null,
   "id": "fbc54dcb",
   "metadata": {},
   "outputs": [],
   "source": []
  },
  {
   "cell_type": "code",
   "execution_count": 9,
   "id": "899cda5d",
   "metadata": {},
   "outputs": [],
   "source": [
    "# Q4. What are the . and .. folders?"
   ]
  },
  {
   "cell_type": "code",
   "execution_count": null,
   "id": "7a5a9fe2",
   "metadata": {},
   "outputs": [],
   "source": [
    ". refers to current directory folder.\n",
    ".. refers to parent directory folder."
   ]
  },
  {
   "cell_type": "code",
   "execution_count": null,
   "id": "31c998ef",
   "metadata": {},
   "outputs": [],
   "source": []
  },
  {
   "cell_type": "code",
   "execution_count": 10,
   "id": "7376ec2f",
   "metadata": {},
   "outputs": [],
   "source": [
    "# Q5. In C:\\bacon\\eggs\\spam.txt, which part is the dir name, and which part is the base name?"
   ]
  },
  {
   "cell_type": "code",
   "execution_count": null,
   "id": "21c2ac1b",
   "metadata": {},
   "outputs": [],
   "source": [
    "basename -> spam\n",
    "dir name -> C:\\bacon\\eggs"
   ]
  },
  {
   "cell_type": "code",
   "execution_count": null,
   "id": "be0bcea4",
   "metadata": {},
   "outputs": [],
   "source": []
  },
  {
   "cell_type": "code",
   "execution_count": 11,
   "id": "477118f4",
   "metadata": {},
   "outputs": [],
   "source": [
    "# Q6. What are the three “mode” arguments that can be passed to the open() function?"
   ]
  },
  {
   "cell_type": "code",
   "execution_count": null,
   "id": "13a5d6c7",
   "metadata": {},
   "outputs": [],
   "source": [
    "r -> reading mode\n",
    "w -> writing mode\n",
    "a -> append "
   ]
  },
  {
   "cell_type": "code",
   "execution_count": null,
   "id": "e6023bad",
   "metadata": {},
   "outputs": [],
   "source": []
  },
  {
   "cell_type": "code",
   "execution_count": 12,
   "id": "9d42171e",
   "metadata": {},
   "outputs": [],
   "source": [
    "# Q7. What happens if an existing file is opened in write mode?"
   ]
  },
  {
   "cell_type": "code",
   "execution_count": null,
   "id": "7fbfc0ba",
   "metadata": {},
   "outputs": [],
   "source": [
    "write mode overwrites the existing file."
   ]
  },
  {
   "cell_type": "code",
   "execution_count": null,
   "id": "7f601cc4",
   "metadata": {},
   "outputs": [],
   "source": []
  },
  {
   "cell_type": "code",
   "execution_count": 13,
   "id": "31fc04e8",
   "metadata": {},
   "outputs": [],
   "source": [
    "# Q8. How do you tell the difference between read() and readlines()?"
   ]
  },
  {
   "cell_type": "code",
   "execution_count": null,
   "id": "e448ac4a",
   "metadata": {},
   "outputs": [],
   "source": [
    "read() reads the entire file as it is written and gives output in same format.\n",
    "readlines() also reads the entile file but gives output in one list where each line is considered a separate element."
   ]
  },
  {
   "cell_type": "code",
   "execution_count": null,
   "id": "2df2e49c",
   "metadata": {},
   "outputs": [],
   "source": []
  },
  {
   "cell_type": "code",
   "execution_count": 14,
   "id": "29848320",
   "metadata": {},
   "outputs": [],
   "source": [
    "# Q9. What data structure does a shelf value resemble?"
   ]
  },
  {
   "cell_type": "code",
   "execution_count": null,
   "id": "1d515cb0",
   "metadata": {},
   "outputs": [],
   "source": [
    "shelf value comes under shelve module where data is stored like in a shelf.\n",
    "Shels acts or resembles like dictionary-type object."
   ]
  },
  {
   "cell_type": "code",
   "execution_count": null,
   "id": "f44a9760",
   "metadata": {},
   "outputs": [],
   "source": []
  }
 ],
 "metadata": {
  "kernelspec": {
   "display_name": "Python 3 (ipykernel)",
   "language": "python",
   "name": "python3"
  },
  "language_info": {
   "codemirror_mode": {
    "name": "ipython",
    "version": 3
   },
   "file_extension": ".py",
   "mimetype": "text/x-python",
   "name": "python",
   "nbconvert_exporter": "python",
   "pygments_lexer": "ipython3",
   "version": "3.9.12"
  }
 },
 "nbformat": 4,
 "nbformat_minor": 5
}
