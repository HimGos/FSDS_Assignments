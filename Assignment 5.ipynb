{
 "cells": [
  {
   "cell_type": "code",
   "execution_count": 1,
   "id": "f8ba2e2a",
   "metadata": {},
   "outputs": [],
   "source": [
    "# Q1. What does an empty dictionary's code look like?"
   ]
  },
  {
   "cell_type": "code",
   "execution_count": null,
   "id": "be8bad10",
   "metadata": {},
   "outputs": [],
   "source": [
    "dictionary_name = {}"
   ]
  },
  {
   "cell_type": "code",
   "execution_count": 2,
   "id": "9cd4e7b3",
   "metadata": {},
   "outputs": [],
   "source": [
    "# Q2. What is the value of a dictionary value with the key 'foo' and the value 42?"
   ]
  },
  {
   "cell_type": "code",
   "execution_count": null,
   "id": "4b5a5f1a",
   "metadata": {},
   "outputs": [],
   "source": [
    "d = {'foo':42}\n",
    "\n",
    "value -> 42"
   ]
  },
  {
   "cell_type": "code",
   "execution_count": 3,
   "id": "c8cb2203",
   "metadata": {},
   "outputs": [],
   "source": [
    "# Q3. What is the most significant distinction between a dictionary and a list?"
   ]
  },
  {
   "cell_type": "code",
   "execution_count": null,
   "id": "3cdf4ea4",
   "metadata": {},
   "outputs": [],
   "source": [
    "Dictionaries are represented with {}\n",
    "Lists are represented with []\n",
    "\n",
    "There's no index in dictionary, rather we have keys which hold value. Each key is unique.\n",
    "List do have index for each value which are totally mutable."
   ]
  },
  {
   "cell_type": "code",
   "execution_count": 4,
   "id": "a929f2c4",
   "metadata": {},
   "outputs": [],
   "source": [
    "# Q4. What happens if you try to access spam['foo'] if spam is {'bar': 100}?"
   ]
  },
  {
   "cell_type": "code",
   "execution_count": null,
   "id": "100e50f8",
   "metadata": {},
   "outputs": [],
   "source": [
    "We will get key error as there's no such key defined as 'foo'"
   ]
  },
  {
   "cell_type": "code",
   "execution_count": 5,
   "id": "8a124481",
   "metadata": {},
   "outputs": [],
   "source": [
    "# Q5. If a dictionary is stored in spam, what is the difference between the expressions 'cat' in spam and 'cat' in spam.keys()?"
   ]
  },
  {
   "cell_type": "code",
   "execution_count": null,
   "id": "55b10ce8",
   "metadata": {},
   "outputs": [],
   "source": [
    "'cat' in spam gives us result in True or False. This expression gives look for 'cat' key in spam. Return False in case 'cat'\n",
    "is not a key or even if it's a value.\n",
    "\n",
    "'cat' in spam.key() look for 'cat' specifically in keys.\n",
    "\n",
    "Technically both are doing same work with different way of writing."
   ]
  },
  {
   "cell_type": "code",
   "execution_count": 6,
   "id": "42039922",
   "metadata": {},
   "outputs": [],
   "source": [
    "# Q6. If a dictionary is stored in spam, what is the difference between the expressions 'cat' in spam and 'cat' in spam.values()?"
   ]
  },
  {
   "cell_type": "code",
   "execution_count": null,
   "id": "d4d0f608",
   "metadata": {},
   "outputs": [],
   "source": [
    "'cat' in spam gives us result in True or False. This expression gives look for 'cat' key in spam. Return False in case 'cat'\n",
    "is not a key or even if it's a value.\n",
    "\n",
    "'cat' in spam.values() will look for 'cat' in values section. Return True only if 'cat' is a value."
   ]
  },
  {
   "cell_type": "code",
   "execution_count": 7,
   "id": "7dda9daa",
   "metadata": {},
   "outputs": [],
   "source": [
    "# Q7. What is a shortcut for the following code?\n",
    "# if 'color' not in spam:\n",
    "#     spam['color'] = 'black'"
   ]
  },
  {
   "cell_type": "code",
   "execution_count": null,
   "id": "f7a23de4",
   "metadata": {},
   "outputs": [],
   "source": [
    "spam = {'color' : 'black'}"
   ]
  },
  {
   "cell_type": "code",
   "execution_count": 8,
   "id": "d84f6190",
   "metadata": {},
   "outputs": [],
   "source": [
    "# Q8. How do you 'pretty print' dictionary values using which module and function?"
   ]
  },
  {
   "cell_type": "code",
   "execution_count": null,
   "id": "be5a7820",
   "metadata": {},
   "outputs": [],
   "source": [
    "For \"pretty print\" we need to call pprint module.\n",
    "Though we can use simple for loop as well to perform such task by using dic_name.items() function, it can segregate keys and vals."
   ]
  },
  {
   "cell_type": "code",
   "execution_count": null,
   "id": "7d259d22",
   "metadata": {},
   "outputs": [],
   "source": []
  },
  {
   "cell_type": "code",
   "execution_count": null,
   "id": "0e113da7",
   "metadata": {},
   "outputs": [],
   "source": [
    "\"\"\"\n",
    "\n",
    "Thank You :)\n",
    "\n",
    "\"\"\""
   ]
  }
 ],
 "metadata": {
  "kernelspec": {
   "display_name": "Python 3 (ipykernel)",
   "language": "python",
   "name": "python3"
  },
  "language_info": {
   "codemirror_mode": {
    "name": "ipython",
    "version": 3
   },
   "file_extension": ".py",
   "mimetype": "text/x-python",
   "name": "python",
   "nbconvert_exporter": "python",
   "pygments_lexer": "ipython3",
   "version": "3.9.12"
  }
 },
 "nbformat": 4,
 "nbformat_minor": 5
}
